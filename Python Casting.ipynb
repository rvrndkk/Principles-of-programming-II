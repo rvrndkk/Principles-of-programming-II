{
 "cells": [
  {
   "cell_type": "markdown",
   "id": "92da2237-9e2c-42a2-9078-d646f027778c",
   "metadata": {},
   "source": [
    "CH 'Python Casting'"
   ]
  },
  {
   "cell_type": "markdown",
   "id": "772f56f4-c1f3-41b9-9613-b10c67158b64",
   "metadata": {},
   "source": [
    "EX 1"
   ]
  },
  {
   "cell_type": "code",
   "execution_count": 1,
   "id": "8756237b-26b0-4a09-ad14-8aa67a0c2ba4",
   "metadata": {},
   "outputs": [],
   "source": [
    "a = int(1)   # x 1\n",
    "b = int(2.8) # y 2\n",
    "c = int(\"3\") # z 3"
   ]
  },
  {
   "cell_type": "markdown",
   "id": "07fe9544-95f1-4158-9cc1-318b9e11cc33",
   "metadata": {},
   "source": [
    "EX 2"
   ]
  },
  {
   "cell_type": "code",
   "execution_count": 3,
   "id": "7d8e6af1-8ccf-4d52-849b-faa3ab3306b5",
   "metadata": {},
   "outputs": [],
   "source": [
    "a = float(1)     #1.0\n",
    "b = float(2.8)   #2.8\n",
    "c = float(\"3\")   #3.0\n",
    "d = float(\"4.2\") #4.2"
   ]
  },
  {
   "cell_type": "markdown",
   "id": "476cc1e3-4abf-4d28-894a-a9ca5742f280",
   "metadata": {},
   "source": [
    "EX 3"
   ]
  },
  {
   "cell_type": "code",
   "execution_count": null,
   "id": "f4473d6f-cb11-44f2-873c-1b75cde5678e",
   "metadata": {},
   "outputs": [],
   "source": [
    "a = str(\"s1\") #'s1'\n",
    "b = str(2)    #'2'\n",
    "c = str(3.0)  #'3.0'"
   ]
  }
 ],
 "metadata": {
  "kernelspec": {
   "display_name": "Python [conda env:base] *",
   "language": "python",
   "name": "conda-base-py"
  },
  "language_info": {
   "codemirror_mode": {
    "name": "ipython",
    "version": 3
   },
   "file_extension": ".py",
   "mimetype": "text/x-python",
   "name": "python",
   "nbconvert_exporter": "python",
   "pygments_lexer": "ipython3",
   "version": "3.12.7"
  }
 },
 "nbformat": 4,
 "nbformat_minor": 5
}
