{
 "cells": [
  {
   "cell_type": "markdown",
   "id": "b9aa1da8-88b5-4469-9fed-40c8d3313443",
   "metadata": {},
   "source": [
    "CH 'Python Comments'"
   ]
  },
  {
   "cell_type": "markdown",
   "id": "c48f085c-fa0f-4e0e-96b3-abe99554e352",
   "metadata": {},
   "source": [
    "EX 1"
   ]
  },
  {
   "cell_type": "code",
   "execution_count": 1,
   "id": "142c0a94-114d-40fb-acc6-c704ff5bef5e",
   "metadata": {},
   "outputs": [
    {
     "name": "stdout",
     "output_type": "stream",
     "text": [
      "Hello, World!\n"
     ]
    }
   ],
   "source": [
    "#COMM\n",
    "print(\"Hello, World!\")"
   ]
  },
  {
   "cell_type": "markdown",
   "id": "596f8190-b817-4437-9b1f-f769986c657e",
   "metadata": {},
   "source": [
    "EX 2"
   ]
  },
  {
   "cell_type": "code",
   "execution_count": 3,
   "id": "99e26d24-9278-4f1d-9578-1236b8f58452",
   "metadata": {},
   "outputs": [
    {
     "name": "stdout",
     "output_type": "stream",
     "text": [
      "Hello, World!\n"
     ]
    }
   ],
   "source": [
    "print(\"Hello, World!\") #ALSO COMM"
   ]
  },
  {
   "cell_type": "markdown",
   "id": "8541f3c3-50d2-49c5-8319-e03a62215e89",
   "metadata": {},
   "source": [
    "EX 3"
   ]
  },
  {
   "cell_type": "code",
   "execution_count": 5,
   "id": "cdc800b1-0dce-4d52-9979-19c02657224c",
   "metadata": {},
   "outputs": [
    {
     "name": "stdout",
     "output_type": "stream",
     "text": [
      "Cheers, Mate!\n"
     ]
    }
   ],
   "source": [
    "#print(\"privetstvye\")\n",
    "print(\"Cheers, Mate!\")"
   ]
  },
  {
   "cell_type": "markdown",
   "id": "4beaeaf1-f198-4428-ac3b-d725174966d2",
   "metadata": {},
   "source": [
    "EX 4"
   ]
  },
  {
   "cell_type": "code",
   "execution_count": 7,
   "id": "02b437f9-ecc6-414c-9101-be1e1407bcf2",
   "metadata": {},
   "outputs": [
    {
     "name": "stdout",
     "output_type": "stream",
     "text": [
      "Hello, World!\n"
     ]
    }
   ],
   "source": [
    "#comm\n",
    "#in\n",
    "#multiline\n",
    "print(\"Hello, World!\")"
   ]
  },
  {
   "cell_type": "code",
   "execution_count": null,
   "id": "aa506d8a-5680-4eab-99bb-a17182d00e24",
   "metadata": {},
   "outputs": [],
   "source": []
  }
 ],
 "metadata": {
  "kernelspec": {
   "display_name": "Python [conda env:base] *",
   "language": "python",
   "name": "conda-base-py"
  },
  "language_info": {
   "codemirror_mode": {
    "name": "ipython",
    "version": 3
   },
   "file_extension": ".py",
   "mimetype": "text/x-python",
   "name": "python",
   "nbconvert_exporter": "python",
   "pygments_lexer": "ipython3",
   "version": "3.12.7"
  }
 },
 "nbformat": 4,
 "nbformat_minor": 5
}
