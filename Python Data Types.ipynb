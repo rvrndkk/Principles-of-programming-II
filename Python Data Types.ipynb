{
 "cells": [
  {
   "cell_type": "markdown",
   "id": "cd4f5422-8a08-4ccf-af65-74ede77a8ac9",
   "metadata": {},
   "source": [
    "CH 'Python Data Types'"
   ]
  },
  {
   "cell_type": "markdown",
   "id": "43f9f69f-b7f8-40cd-8c21-6111134116a9",
   "metadata": {},
   "source": [
    "EX 1"
   ]
  },
  {
   "cell_type": "code",
   "execution_count": 1,
   "id": "889ed594-5fae-43f8-bd8d-3e0cb2e47776",
   "metadata": {},
   "outputs": [
    {
     "name": "stdout",
     "output_type": "stream",
     "text": [
      "<class 'int'>\n"
     ]
    }
   ],
   "source": [
    "a = 52\n",
    "print(type(a))"
   ]
  },
  {
   "cell_type": "code",
   "execution_count": null,
   "id": "34ce392c-97bc-4797-8fff-d6f362de63b9",
   "metadata": {},
   "outputs": [],
   "source": [
    "EX 2"
   ]
  },
  {
   "cell_type": "code",
   "execution_count": null,
   "id": "a29ac54e-0a34-468b-8772-19db778aa334",
   "metadata": {},
   "outputs": [],
   "source": [
    "x = \"Hello World\""
   ]
  },
  {
   "cell_type": "code",
   "execution_count": null,
   "id": "aeb78908-2ac6-4118-88cf-a4c8e6e7c80a",
   "metadata": {},
   "outputs": [],
   "source": [
    "x = 20"
   ]
  },
  {
   "cell_type": "code",
   "execution_count": null,
   "id": "b1ecc5dc-c3f8-4baa-a3e4-1aeb9566f13e",
   "metadata": {},
   "outputs": [],
   "source": [
    "x = 20.5"
   ]
  },
  {
   "cell_type": "code",
   "execution_count": null,
   "id": "d65d97ff-81f5-4422-818c-1ef4d6c93a3e",
   "metadata": {},
   "outputs": [],
   "source": [
    "x = 1j #complex"
   ]
  },
  {
   "cell_type": "code",
   "execution_count": null,
   "id": "9873acad-0735-40bb-9513-d3fb02269d92",
   "metadata": {},
   "outputs": [],
   "source": [
    "x = [\"apple\", \"banana\", \"cherry\"] #list"
   ]
  },
  {
   "cell_type": "code",
   "execution_count": null,
   "id": "f64e4771-d146-44d7-8cf4-e4c67df579d0",
   "metadata": {},
   "outputs": [],
   "source": [
    "x = (\"apple\", \"banana\", \"cherry\") #tuple"
   ]
  },
  {
   "cell_type": "code",
   "execution_count": null,
   "id": "b06e0ea8-db9d-4eca-9ccf-1db84b447c8b",
   "metadata": {},
   "outputs": [],
   "source": [
    "x = range(6)"
   ]
  },
  {
   "cell_type": "code",
   "execution_count": null,
   "id": "e1de0f07-caec-4548-bab0-7f0ce5c13742",
   "metadata": {},
   "outputs": [],
   "source": [
    "x = {\"name\" : \"John\", \"age\" : 36} #dict"
   ]
  },
  {
   "cell_type": "code",
   "execution_count": null,
   "id": "1de1cf02-7364-4c2f-ac16-a3347fbb6833",
   "metadata": {},
   "outputs": [],
   "source": [
    "x = {\"apple\", \"banana\", \"cherry\"} #set"
   ]
  },
  {
   "cell_type": "code",
   "execution_count": null,
   "id": "8cce3c3e-54b4-44ef-acf2-bfe625502947",
   "metadata": {},
   "outputs": [],
   "source": [
    "x = frozenset({\"apple\", \"banana\", \"cherry\"}) #frozenset"
   ]
  },
  {
   "cell_type": "code",
   "execution_count": null,
   "id": "c0c83d5d-734f-4456-ae9a-dd64f0a78bd9",
   "metadata": {},
   "outputs": [],
   "source": [
    "x = True"
   ]
  },
  {
   "cell_type": "code",
   "execution_count": null,
   "id": "6f010f68-8254-476a-a3ef-14138a3accde",
   "metadata": {},
   "outputs": [],
   "source": [
    "x = b\"Hello\""
   ]
  },
  {
   "cell_type": "code",
   "execution_count": null,
   "id": "db045769-8b02-4ad1-bfbb-0b15a2d63594",
   "metadata": {},
   "outputs": [],
   "source": [
    "x = bytearray(5)"
   ]
  },
  {
   "cell_type": "code",
   "execution_count": null,
   "id": "94bb37a2-02cf-4933-a4f5-1a038c665b3c",
   "metadata": {},
   "outputs": [],
   "source": [
    "x = memoryview(bytes(5))"
   ]
  },
  {
   "cell_type": "code",
   "execution_count": null,
   "id": "1b9999d0-4a1d-46f2-ae5f-505dea8d2b84",
   "metadata": {},
   "outputs": [],
   "source": [
    "x = None"
   ]
  },
  {
   "cell_type": "markdown",
   "id": "bc8ed116-b741-4356-9d19-b040b2d05162",
   "metadata": {},
   "source": [
    "EX 3"
   ]
  },
  {
   "cell_type": "code",
   "execution_count": null,
   "id": "0abef04a-1bf2-4880-9c46-aa484faeba86",
   "metadata": {},
   "outputs": [],
   "source": [
    "x = str(\"Hello World\")"
   ]
  },
  {
   "cell_type": "code",
   "execution_count": null,
   "id": "bf195296-44e0-4a9f-a6ab-9c57b1bea9b4",
   "metadata": {},
   "outputs": [],
   "source": [
    "x = int(20)"
   ]
  },
  {
   "cell_type": "code",
   "execution_count": null,
   "id": "b8b404bf-e07d-401f-96e2-a756f4bc75a1",
   "metadata": {},
   "outputs": [],
   "source": [
    "x = float(20.5)"
   ]
  },
  {
   "cell_type": "code",
   "execution_count": null,
   "id": "cddbabb3-0a51-49a9-94b4-98ba1e57af90",
   "metadata": {},
   "outputs": [],
   "source": [
    "x = complex(1j)"
   ]
  },
  {
   "cell_type": "code",
   "execution_count": null,
   "id": "9009287e-499d-47cd-8f3f-c0ee1961f41b",
   "metadata": {},
   "outputs": [],
   "source": [
    "x = list((\"apple\", \"banana\", \"cherry\"))"
   ]
  },
  {
   "cell_type": "code",
   "execution_count": null,
   "id": "593cabd4-b6e6-4402-ba4a-1e1adfa7ac11",
   "metadata": {},
   "outputs": [],
   "source": []
  }
 ],
 "metadata": {
  "kernelspec": {
   "display_name": "Python [conda env:base] *",
   "language": "python",
   "name": "conda-base-py"
  },
  "language_info": {
   "codemirror_mode": {
    "name": "ipython",
    "version": 3
   },
   "file_extension": ".py",
   "mimetype": "text/x-python",
   "name": "python",
   "nbconvert_exporter": "python",
   "pygments_lexer": "ipython3",
   "version": "3.12.7"
  }
 },
 "nbformat": 4,
 "nbformat_minor": 5
}
