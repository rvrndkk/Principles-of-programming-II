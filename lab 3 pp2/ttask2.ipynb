{
 "cells": [
  {
   "cell_type": "markdown",
   "id": "cc25c7b8-ab7d-4387-bb99-e8e9ec5008a4",
   "metadata": {},
   "source": [
    "task2"
   ]
  },
  {
   "cell_type": "markdown",
   "id": "02b3a4ce-4120-4f40-9dc8-be0f03cd7242",
   "metadata": {},
   "source": [
    "1"
   ]
  },
  {
   "cell_type": "code",
   "execution_count": 1,
   "id": "d97bcca3-a030-4508-a942-1b85b6467fc1",
   "metadata": {},
   "outputs": [],
   "source": [
    "def high(mov):\n",
    "    return mov[\"imdb\"] > 5.5"
   ]
  },
  {
   "cell_type": "markdown",
   "id": "6fe6879a-5b40-40bc-9a0a-bb58c81442df",
   "metadata": {},
   "source": [
    "2"
   ]
  },
  {
   "cell_type": "code",
   "execution_count": 4,
   "id": "de56b6ef-bbe0-48fc-9057-ac3e963e3c5e",
   "metadata": {},
   "outputs": [],
   "source": [
    "def high1(movs):\n",
    "    return [mov for mov in movs if mov[\"imdb\"] > 5.5]"
   ]
  },
  {
   "cell_type": "markdown",
   "id": "ab5a639c-6c57-454b-a191-5266a4e15ed8",
   "metadata": {},
   "source": [
    "3"
   ]
  },
  {
   "cell_type": "code",
   "execution_count": 7,
   "id": "012e0412-4aab-41f5-9199-c319ee854406",
   "metadata": {},
   "outputs": [],
   "source": [
    "def movs_by_cat(movs, cat):\n",
    "    return [mov for mov in movs if mov[\"category\"] == cat]"
   ]
  },
  {
   "cell_type": "markdown",
   "id": "3e3e0a94-9068-4dd9-bf47-a542bef75145",
   "metadata": {},
   "source": [
    "4"
   ]
  },
  {
   "cell_type": "code",
   "execution_count": 10,
   "id": "13a8bdbd-a4d6-4f71-9ed6-5e89d574b01c",
   "metadata": {},
   "outputs": [],
   "source": [
    "def imdb(movs):\n",
    "    if not movs:\n",
    "        return 0\n",
    "    return sum(mov[\"imdb\"] for mov in movs) / len(movs)"
   ]
  },
  {
   "cell_type": "markdown",
   "id": "fb31707c-59a9-4286-8823-4f2115938d0e",
   "metadata": {},
   "source": [
    "5"
   ]
  },
  {
   "cell_type": "code",
   "execution_count": 17,
   "id": "fbdea186-00db-4c59-bbf8-c8e56ad0e5e3",
   "metadata": {},
   "outputs": [],
   "source": [
    "def imdbcat(movs, cat):\n",
    "    cat = movs_by_cat(movs, cat)\n",
    "    return imdb(cat)\n"
   ]
  },
  {
   "cell_type": "code",
   "execution_count": null,
   "id": "16b830e8-1e43-474e-964d-5777efe94519",
   "metadata": {},
   "outputs": [],
   "source": []
  }
 ],
 "metadata": {
  "kernelspec": {
   "display_name": "Python [conda env:base] *",
   "language": "python",
   "name": "conda-base-py"
  },
  "language_info": {
   "codemirror_mode": {
    "name": "ipython",
    "version": 3
   },
   "file_extension": ".py",
   "mimetype": "text/x-python",
   "name": "python",
   "nbconvert_exporter": "python",
   "pygments_lexer": "ipython3",
   "version": "3.12.7"
  }
 },
 "nbformat": 4,
 "nbformat_minor": 5
}
