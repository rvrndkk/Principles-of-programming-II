{
 "cells": [
  {
   "cell_type": "markdown",
   "id": "2b1b2438-363e-47d4-9b37-a09099bd220a",
   "metadata": {},
   "source": [
    "part1"
   ]
  },
  {
   "cell_type": "markdown",
   "id": "233cf269-d58c-4fb4-8ee8-0c79957b6e0e",
   "metadata": {},
   "source": [
    "1"
   ]
  },
  {
   "cell_type": "code",
   "execution_count": 1,
   "id": "d332dbb8-0604-4f8f-9d9d-b63d62b4bea8",
   "metadata": {},
   "outputs": [],
   "source": [
    "def convert(gramms):\n",
    "    print(gramms/28.3495231)"
   ]
  },
  {
   "cell_type": "code",
   "execution_count": 3,
   "id": "d5725a06-13ca-49bd-bc09-acd679cfde8f",
   "metadata": {},
   "outputs": [
    {
     "name": "stdout",
     "output_type": "stream",
     "text": [
      "1.8342460229957096\n"
     ]
    }
   ],
   "source": [
    "convert(52)"
   ]
  },
  {
   "cell_type": "markdown",
   "id": "837cd11e-8e5c-4c86-9e80-83debec7d477",
   "metadata": {},
   "source": [
    "2"
   ]
  },
  {
   "cell_type": "code",
   "execution_count": 9,
   "id": "9f4d9771-f93d-4875-b225-45b1e6e2c664",
   "metadata": {},
   "outputs": [],
   "source": [
    "def cels(faren):\n",
    "    print((5 / 9) * (faren - 32))"
   ]
  },
  {
   "cell_type": "code",
   "execution_count": 11,
   "id": "80f7a4ad-aafc-425d-8c49-c03d41316d33",
   "metadata": {},
   "outputs": [
    {
     "name": "stdout",
     "output_type": "stream",
     "text": [
      "66.66666666666667\n"
     ]
    }
   ],
   "source": [
    "cels(152)"
   ]
  },
  {
   "cell_type": "markdown",
   "id": "fc504312-026b-41f2-ad4f-4275b75aa77c",
   "metadata": {},
   "source": [
    "3"
   ]
  },
  {
   "cell_type": "code",
   "execution_count": 19,
   "id": "cd243a34-b1a9-4872-816b-3b3971685df8",
   "metadata": {},
   "outputs": [],
   "source": [
    "def solve(numheads, numlegs):\n",
    "    for chick in range(numheads + 1):\n",
    "        rab = numheads - chick\n",
    "        if 2 * chick + 4 * rab == numlegs:\n",
    "            print(\"chicks \", chick, \"rabbs \", rab)"
   ]
  },
  {
   "cell_type": "code",
   "execution_count": 21,
   "id": "fa4271c2-c88f-41aa-bc3e-515a7d3e79b0",
   "metadata": {},
   "outputs": [
    {
     "name": "stdout",
     "output_type": "stream",
     "text": [
      "chicks  23 rabbs  12\n"
     ]
    }
   ],
   "source": [
    "solve(35, 94)"
   ]
  },
  {
   "cell_type": "markdown",
   "id": "8f71489d-e643-42ca-ae8a-47af6dbb7848",
   "metadata": {},
   "source": [
    "4"
   ]
  },
  {
   "cell_type": "code",
   "execution_count": 25,
   "id": "a863bff0-21a8-43b0-8427-0192aaafd784",
   "metadata": {},
   "outputs": [],
   "source": [
    "def filter_prime(numbers):\n",
    "    def prime(n):\n",
    "        if n < 2:\n",
    "            return False\n",
    "        for i in range(2, int(n**0.5) + 1):\n",
    "            if n % i == 0:\n",
    "                return False\n",
    "        return True\n",
    "\n",
    "    return [num for num in numbers if prime(num)]"
   ]
  },
  {
   "cell_type": "code",
   "execution_count": 27,
   "id": "ec9efb9e-10b2-4b48-abf7-d63e082489b3",
   "metadata": {},
   "outputs": [
    {
     "name": "stdout",
     "output_type": "stream",
     "text": [
      "[17, 19, 23]\n"
     ]
    }
   ],
   "source": [
    "list = [10, 15, 17, 19, 21, 23, 28]\n",
    "result = filter_prime(list)\n",
    "print(result)"
   ]
  },
  {
   "cell_type": "markdown",
   "id": "17a1b97b-a703-4947-aaee-a47bce47ddfb",
   "metadata": {},
   "source": [
    "5"
   ]
  },
  {
   "cell_type": "code",
   "execution_count": 29,
   "id": "236333b7-0137-441c-ad2d-1aca4fbc284f",
   "metadata": {},
   "outputs": [
    {
     "name": "stdin",
     "output_type": "stream",
     "text": [
      " 34234\n"
     ]
    },
    {
     "name": "stdout",
     "output_type": "stream",
     "text": [
      "34234\n",
      "34243\n",
      "34324\n",
      "34342\n",
      "34423\n",
      "34432\n",
      "32434\n",
      "32443\n",
      "32344\n",
      "32344\n",
      "32443\n",
      "32434\n",
      "33424\n",
      "33442\n",
      "33244\n",
      "33244\n",
      "33442\n",
      "33424\n",
      "34423\n",
      "34432\n",
      "34243\n",
      "34234\n",
      "34342\n",
      "34324\n",
      "43234\n",
      "43243\n",
      "43324\n",
      "43342\n",
      "43423\n",
      "43432\n",
      "42334\n",
      "42343\n",
      "42334\n",
      "42343\n",
      "42433\n",
      "42433\n",
      "43324\n",
      "43342\n",
      "43234\n",
      "43243\n",
      "43432\n",
      "43423\n",
      "44323\n",
      "44332\n",
      "44233\n",
      "44233\n",
      "44332\n",
      "44323\n",
      "23434\n",
      "23443\n",
      "23344\n",
      "23344\n",
      "23443\n",
      "23434\n",
      "24334\n",
      "24343\n",
      "24334\n",
      "24343\n",
      "24433\n",
      "24433\n",
      "23344\n",
      "23344\n",
      "23434\n",
      "23443\n",
      "23434\n",
      "23443\n",
      "24343\n",
      "24334\n",
      "24433\n",
      "24433\n",
      "24334\n",
      "24343\n",
      "33424\n",
      "33442\n",
      "33244\n",
      "33244\n",
      "33442\n",
      "33424\n",
      "34324\n",
      "34342\n",
      "34234\n",
      "34243\n",
      "34432\n",
      "34423\n",
      "32344\n",
      "32344\n",
      "32434\n",
      "32443\n",
      "32434\n",
      "32443\n",
      "34342\n",
      "34324\n",
      "34432\n",
      "34423\n",
      "34234\n",
      "34243\n",
      "43423\n",
      "43432\n",
      "43243\n",
      "43234\n",
      "43342\n",
      "43324\n",
      "44323\n",
      "44332\n",
      "44233\n",
      "44233\n",
      "44332\n",
      "44323\n",
      "42343\n",
      "42334\n",
      "42433\n",
      "42433\n",
      "42334\n",
      "42343\n",
      "43342\n",
      "43324\n",
      "43432\n",
      "43423\n",
      "43234\n",
      "43243\n"
     ]
    }
   ],
   "source": [
    "from itertools import permutations\n",
    "\n",
    "def print_perms(s):\n",
    "    perms = permutations(s)\n",
    "    for perm in perms:\n",
    "        print(''.join(perm))\n",
    "\n",
    "inp = input()\n",
    "print_perms(inp)"
   ]
  },
  {
   "cell_type": "markdown",
   "id": "17a4ed55-cfbe-4b55-91d0-22f7d5219476",
   "metadata": {},
   "source": [
    "6"
   ]
  },
  {
   "cell_type": "code",
   "execution_count": 35,
   "id": "b049726e-b7d5-4b34-b8b1-0efc217d9c55",
   "metadata": {},
   "outputs": [],
   "source": [
    "def rev(stri):\n",
    "    list= stri.split(' ')\n",
    "    x=len(list)\n",
    "    y = x-1\n",
    "    for i in range(x):\n",
    "        print(list[y-i])"
   ]
  },
  {
   "cell_type": "code",
   "execution_count": 37,
   "id": "3e221ec5-827b-49e3-8b96-572b5a65504a",
   "metadata": {},
   "outputs": [
    {
     "name": "stdout",
     "output_type": "stream",
     "text": [
      "dela\n",
      "kak\n",
      "world\n",
      "Hello\n"
     ]
    }
   ],
   "source": [
    "rev(\"Hello world kak dela\")"
   ]
  },
  {
   "cell_type": "markdown",
   "id": "adb676e4-0728-4c53-ba30-74ca39f76ea2",
   "metadata": {},
   "source": [
    "7"
   ]
  },
  {
   "cell_type": "code",
   "execution_count": 51,
   "id": "ce8e1422-faf5-4427-8f05-7bba2dad36e8",
   "metadata": {},
   "outputs": [],
   "source": [
    "def has_33(nums):\n",
    "    x= len(nums)\n",
    "    for i in range(x-1):\n",
    "        if nums[i] == nums[i+1] and nums[i] ==3:\n",
    "            return True\n",
    "    return False"
   ]
  },
  {
   "cell_type": "code",
   "execution_count": 53,
   "id": "8ab3b726-7998-4f89-9d8d-3676dd889339",
   "metadata": {},
   "outputs": [
    {
     "name": "stdout",
     "output_type": "stream",
     "text": [
      "True\n",
      "False\n",
      "False\n"
     ]
    }
   ],
   "source": [
    "print(has_33([1, 3, 3]))\n",
    "print(has_33([1, 3, 1, 3]))\n",
    "print(has_33([3, 1, 3]))"
   ]
  },
  {
   "cell_type": "markdown",
   "id": "961df1be-42d4-41d9-950b-0cb41788ad7b",
   "metadata": {},
   "source": [
    "8"
   ]
  },
  {
   "cell_type": "code",
   "execution_count": 91,
   "id": "5570c335-d273-420f-ad87-8fef5858114c",
   "metadata": {},
   "outputs": [],
   "source": [
    "def spy_game(nums):\n",
    "    x= len(nums)\n",
    "    s=\"\"\n",
    "    for i in range(x):\n",
    "        if nums[i] ==7 or nums[i]==0:\n",
    "            s+=str(nums[i])\n",
    "    for i in range(len(s)-2):\n",
    "        if s[i+2] =='7' and s[i]=='0' and s[i+1] =='0':\n",
    "            return True\n",
    "    return False"
   ]
  },
  {
   "cell_type": "code",
   "execution_count": 93,
   "id": "15c756d1-7fd7-4d90-9c17-29d7b82f5a55",
   "metadata": {},
   "outputs": [
    {
     "name": "stdout",
     "output_type": "stream",
     "text": [
      "True\n",
      "True\n",
      "False\n"
     ]
    }
   ],
   "source": [
    "print(spy_game([1,2,4,0,0,7,5]))\n",
    "print(spy_game([1,0,2,4,0,5,7]))\n",
    "print(spy_game([1,7,2,0,4,5,0]))"
   ]
  },
  {
   "cell_type": "markdown",
   "id": "f4b16293-48b5-40a9-8b5b-06d01269f740",
   "metadata": {},
   "source": [
    "9"
   ]
  },
  {
   "cell_type": "code",
   "execution_count": 95,
   "id": "63b24d04-e7ed-413c-908d-7705817676c9",
   "metadata": {},
   "outputs": [],
   "source": [
    "import math\n",
    "def sphere(radius):\n",
    "    return (4*math.pi*(radius**3))/3"
   ]
  },
  {
   "cell_type": "code",
   "execution_count": 97,
   "id": "947eba05-74c8-4d12-9e5e-cd3b7b043120",
   "metadata": {},
   "outputs": [
    {
     "name": "stdout",
     "output_type": "stream",
     "text": [
      "268.082573106329\n"
     ]
    }
   ],
   "source": [
    "print(sphere(4))\n"
   ]
  },
  {
   "cell_type": "markdown",
   "id": "1eda022f-9ca1-4ed1-8b53-9028ca0efac4",
   "metadata": {},
   "source": [
    "10"
   ]
  },
  {
   "cell_type": "code",
   "execution_count": 1,
   "id": "70139384-cc9f-46ee-a530-26e62eb06fce",
   "metadata": {},
   "outputs": [],
   "source": [
    "def uniqu(list):\n",
    "    unili = []\n",
    "    for x in list:\n",
    "        if x not in unili:\n",
    "            unili.append(x)\n",
    "    return unili\n"
   ]
  },
  {
   "cell_type": "code",
   "execution_count": 3,
   "id": "66a32c8a-d5ec-4304-83ea-b1c338c3566f",
   "metadata": {},
   "outputs": [
    {
     "name": "stdout",
     "output_type": "stream",
     "text": [
      "[2, 4, 6, 7, 1, 8]\n"
     ]
    }
   ],
   "source": [
    "li = [2 ,4 ,6 ,7 ,1 ,6 ,7 ,8]\n",
    "print(uniqu(li))"
   ]
  },
  {
   "cell_type": "markdown",
   "id": "b63ed8e1-e519-4908-a3e9-1c3c5e569e0d",
   "metadata": {},
   "source": [
    "11"
   ]
  },
  {
   "cell_type": "code",
   "execution_count": 5,
   "id": "67a95a04-97b7-4128-95cf-cafb3998ded4",
   "metadata": {},
   "outputs": [],
   "source": [
    "def palin(strin):\n",
    "    x= len(strin)-1\n",
    "    cnt = 0\n",
    "    while x != cnt:\n",
    "        if strin[x] != strin[cnt]:\n",
    "            return False\n",
    "        cnt+=1\n",
    "        x-=1\n",
    "    return True\n"
   ]
  },
  {
   "cell_type": "code",
   "execution_count": 9,
   "id": "8dbf4000-eac5-47a6-81a5-ac9a84d8a4c0",
   "metadata": {},
   "outputs": [
    {
     "name": "stdout",
     "output_type": "stream",
     "text": [
      "False\n"
     ]
    }
   ],
   "source": [
    "print(palin(\"pididdy\"))"
   ]
  },
  {
   "cell_type": "markdown",
   "id": "77fb80ad-5ab3-4bdc-b1e2-83067cf98106",
   "metadata": {},
   "source": [
    "12"
   ]
  },
  {
   "cell_type": "code",
   "execution_count": 11,
   "id": "0c050f93-2d1a-493d-aac4-6bf0cf18259e",
   "metadata": {},
   "outputs": [],
   "source": [
    "def histogram(list):\n",
    "    for x in range(len(list)):\n",
    "        print(\"*\" * list[x])\n",
    "    "
   ]
  },
  {
   "cell_type": "code",
   "execution_count": 13,
   "id": "d2972db9-a394-4986-8750-c382e0946c92",
   "metadata": {},
   "outputs": [
    {
     "name": "stdout",
     "output_type": "stream",
     "text": [
      "**\n",
      "****\n",
      "******\n",
      "********\n",
      "********\n"
     ]
    }
   ],
   "source": [
    "list = [2, 4, 6, 8, 8]\n",
    "histogram(list)"
   ]
  },
  {
   "cell_type": "markdown",
   "id": "417a6232-5a21-4c9b-aa38-0a0793515a66",
   "metadata": {},
   "source": [
    "13"
   ]
  },
  {
   "cell_type": "code",
   "execution_count": 51,
   "id": "15539311-9dc4-4071-a347-818009b260e4",
   "metadata": {},
   "outputs": [
    {
     "name": "stdin",
     "output_type": "stream",
     "text": [
      "Hello! What is your name? 52\n"
     ]
    },
    {
     "name": "stdout",
     "output_type": "stream",
     "text": [
      "Well, 52, I am thinking of a number between 1 and 20.\n",
      "Take a guess.\n"
     ]
    },
    {
     "name": "stdin",
     "output_type": "stream",
     "text": [
      " 10\n"
     ]
    },
    {
     "name": "stdout",
     "output_type": "stream",
     "text": [
      "Your guess is too low.\n",
      "Take a guess.\n"
     ]
    },
    {
     "name": "stdin",
     "output_type": "stream",
     "text": [
      " 15\n"
     ]
    },
    {
     "name": "stdout",
     "output_type": "stream",
     "text": [
      "Good job, 52! You guessed my number in 2 guesses!\n"
     ]
    }
   ],
   "source": [
    "import random\n",
    "\n",
    "x = input(\"Hello! What is your name?\")\n",
    "print(f\"\"\"Well, {x}, I am thinking of a number between 1 and 20.\n",
    "Take a guess.\"\"\")\n",
    "\n",
    "ff=random.randint(1, 20)\n",
    "cnt = 1\n",
    "y=0\n",
    "while y!= ff:\n",
    "        y= int(input())\n",
    "        if y > ff:\n",
    "            print(\"\"\"Your guess is too high.\n",
    "Take a guess.\"\"\")\n",
    "        elif y < ff:\n",
    "            print(\"\"\"Your guess is too low.\n",
    "Take a guess.\"\"\")\n",
    "        else:\n",
    "            print(f\"\"\"Good job, {x}! You guessed my number in {cnt} guesses!\"\"\")\n",
    "        cnt+=1\n",
    "    "
   ]
  },
  {
   "cell_type": "code",
   "execution_count": null,
   "id": "d0b13c68-2e3f-4fdc-babe-c3d84b7a0086",
   "metadata": {},
   "outputs": [],
   "source": []
  }
 ],
 "metadata": {
  "kernelspec": {
   "display_name": "Python [conda env:base] *",
   "language": "python",
   "name": "conda-base-py"
  },
  "language_info": {
   "codemirror_mode": {
    "name": "ipython",
    "version": 3
   },
   "file_extension": ".py",
   "mimetype": "text/x-python",
   "name": "python",
   "nbconvert_exporter": "python",
   "pygments_lexer": "ipython3",
   "version": "3.12.7"
  }
 },
 "nbformat": 4,
 "nbformat_minor": 5
}
