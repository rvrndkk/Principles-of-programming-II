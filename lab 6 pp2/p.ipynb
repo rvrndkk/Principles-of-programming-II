{
 "cells": [
  {
   "cell_type": "code",
   "execution_count": null,
   "metadata": {},
   "outputs": [],
   "source": []
  },
  {
   "cell_type": "markdown",
   "metadata": {},
   "source": [
    "1"
   ]
  },
  {
   "cell_type": "code",
   "execution_count": null,
   "metadata": {},
   "outputs": [],
   "source": [
    "import os\n",
    "\n",
    "path = input(\"enter dir: \")\n",
    "print(\"dir:\", [d for d in os.listdir(path) if os.path.isdir(os.path.join(path, d))])\n",
    "print(\"file:\", [f for f in os.listdir(path) if os.path.isfile(os.path.join(path, f))])\n",
    "print(\"all:\", os.listdir(path))\n",
    "# https://www.geeksforgeeks.org/os-path-module-python/\n",
    "# https://www.geeksforgeeks.org/python-os-path-join-method/"
   ]
  },
  {
   "cell_type": "markdown",
   "metadata": {},
   "source": [
    "2"
   ]
  },
  {
   "cell_type": "code",
   "execution_count": null,
   "metadata": {},
   "outputs": [],
   "source": [
    "import os\n",
    "\n",
    "path = input(\"enter dir: \")\n",
    "print(\"exist:\", os.path.exists(path))\n",
    "print(\"read:\", os.access(path, os.R_OK))\n",
    "print(\"write:\", os.access(path, os.W_OK))\n",
    "print(\"exe:\", os.access(path, os.X_OK))\n"
   ]
  },
  {
   "cell_type": "markdown",
   "metadata": {},
   "source": [
    "3"
   ]
  },
  {
   "cell_type": "code",
   "execution_count": 4,
   "metadata": {},
   "outputs": [
    {
     "name": "stdout",
     "output_type": "stream",
     "text": [
      "exists\n",
      "dir: C:\\Users\\ZEON\\Desktop\n",
      "file: lab 6 pp2\n"
     ]
    }
   ],
   "source": [
    "import os\n",
    "\n",
    "ff = input(\"enter dir: \")\n",
    "if os.path.exists(ff):\n",
    "    print(\"exists\")\n",
    "    print(\"dir:\", os.path.dirname(ff))\n",
    "    print(\"file:\", os.path.basename(ff))\n",
    "else:\n",
    "    print(\"does not exist.\")\n"
   ]
  },
  {
   "cell_type": "markdown",
   "metadata": {},
   "source": [
    "4"
   ]
  },
  {
   "cell_type": "code",
   "execution_count": 1,
   "metadata": {},
   "outputs": [
    {
     "name": "stdout",
     "output_type": "stream",
     "text": [
      "24\n"
     ]
    }
   ],
   "source": [
    "ff= input(\"dir: \")\n",
    "ee=open(ff, \"r\")\n",
    "cnt=0\n",
    "for x in ee:\n",
    "    cnt+=1\n",
    "print(cnt)"
   ]
  },
  {
   "cell_type": "markdown",
   "metadata": {},
   "source": [
    "5"
   ]
  },
  {
   "cell_type": "code",
   "execution_count": null,
   "metadata": {},
   "outputs": [],
   "source": [
    "ff = [\"5252\", \"2525\", \"5225\"]\n",
    "pp = \"output.txt\"\n",
    "\n",
    "f= open(pp, 'w')\n",
    "for i in ff:\n",
    "    f.write(f\"{i}\\n\")\n",
    "\n",
    "print(f\"Data written to {pp}\")\n"
   ]
  },
  {
   "cell_type": "markdown",
   "metadata": {},
   "source": [
    "6"
   ]
  },
  {
   "cell_type": "code",
   "execution_count": 1,
   "metadata": {},
   "outputs": [],
   "source": [
    "ff= 65\n",
    "for i in range(0,26):\n",
    "    e=open(chr(ff), 'x')\n",
    "    ff+=1\n",
    "    e.close()\n"
   ]
  },
  {
   "cell_type": "markdown",
   "metadata": {},
   "source": [
    "7"
   ]
  },
  {
   "cell_type": "code",
   "execution_count": 4,
   "metadata": {},
   "outputs": [
    {
     "name": "stdout",
     "output_type": "stream",
     "text": [
      "Task  1.\n",
      "In TOGAF, Preliminary phase located outside of ADM circle because it is axle for it. Furthermore, preliminary phase sets up architectural practice\n",
      "& architectural capabilities before development begins. So, key objective of the Preliminary Phase is to establish the\n",
      "Architecture Capability for the enterprise. Thats why it is outside.\n",
      "\n",
      "Task 2.\n",
      "Toyota Connected is ToyotaвЂ™s data-driven mobility services division, leveraging cloud\n",
      "services to enhance scalability, flexibility, and cost-effectiveness. So, they using cloud services like google cloud to scale operations globally without buying huge data centers.\n",
      "Also they deploy microservice architectuure in cloud allowing many services (telematics, navigation and etc.) evolve without system-wide updates.\n",
      "Furthermore, cloud computing is used to make AI-driven predictive maintenance to minimize vehicle servicing costs.\n",
      "\n",
      "Task 3.\n",
      "Bussines vision is a strategic goal of company, what the company wants to achieve in long term. At the same time Architechture vision is a technologies, methods, systems used to achieve bussines vision.\n",
      "For example Tesla company. Its bussines vision: \"To create the most compelling car company of the 21st century by driving the worldвЂ™s transition to electric vehicles.\". TeslaвЂ™s Architecture Vision: Designing a cloud-based, AI-driven energy management system for autonomous driving.\n",
      "\n",
      "Task 4.\n",
      "A clear set vision lets companies to align IT investments, innovation, and business strategy. So, it provides a roadmap for rapid adaptation to market changes and encourages strategic alignment.\n",
      "From examples i can especially highlight apple,tesla and toyota.\n",
      "Tesla developed an integrated AI, battery technology, and cloud ecosystem for smart vehicles.\n",
      "Apple did a big job in \"Think different\" marketing company and did custom silicon chips and performance optimization for them.\n",
      "Toyota invested in Toyota Connected Cloud for AI-driven mobility solutions.\n",
      "\n",
      "\n",
      " \n"
     ]
    }
   ],
   "source": [
    "ss=input(\"enter dir: \")\n",
    "ff=open(ss, \"r\")\n",
    "kk=input(\"new name \")\n",
    "ee=open(kk, \"w\")\n",
    "ee.write(ff.read())\n",
    "ee.close()\n",
    "\n",
    "ee = open(kk, \"r\")\n",
    "print(ee.read())\n"
   ]
  },
  {
   "cell_type": "markdown",
   "metadata": {},
   "source": [
    "8"
   ]
  },
  {
   "cell_type": "code",
   "execution_count": null,
   "metadata": {},
   "outputs": [],
   "source": [
    "import os\n",
    "\n",
    "ff = input(\"enter dir: \")\n",
    "\n",
    "if os.path.exists(ff):\n",
    "    if os.access(ff, os.W_OK):\n",
    "        os.remove(ff)\n",
    "        print(\"deleted\")\n",
    "    else:\n",
    "        print(\"No permission\")\n",
    "else:\n",
    "    print(\"does not exist.\")\n"
   ]
  }
 ],
 "metadata": {
  "kernelspec": {
   "display_name": "Python 3",
   "language": "python",
   "name": "python3"
  },
  "language_info": {
   "codemirror_mode": {
    "name": "ipython",
    "version": 3
   },
   "file_extension": ".py",
   "mimetype": "text/x-python",
   "name": "python",
   "nbconvert_exporter": "python",
   "pygments_lexer": "ipython3",
   "version": "3.13.2"
  }
 },
 "nbformat": 4,
 "nbformat_minor": 2
}
