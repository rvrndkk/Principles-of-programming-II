{
 "cells": [
  {
   "cell_type": "markdown",
   "metadata": {},
   "source": [
    "1"
   ]
  },
  {
   "cell_type": "code",
   "execution_count": 3,
   "metadata": {},
   "outputs": [
    {
     "name": "stdout",
     "output_type": "stream",
     "text": [
      "Product: 120\n"
     ]
    }
   ],
   "source": [
    "from functools import reduce\n",
    "\n",
    "nums = [2, 3, 4, 5]\n",
    "res = reduce(lambda x, y: x * y, nums)\n",
    "print(\"Product:\", res)\n",
    "# https://pythonworld.ru/moduli/modul-functools.html"
   ]
  },
  {
   "cell_type": "markdown",
   "metadata": {},
   "source": [
    "2"
   ]
  },
  {
   "cell_type": "code",
   "execution_count": null,
   "metadata": {},
   "outputs": [],
   "source": [
    "ee = input()\n",
    "upp = sum(1 for c in ee if c.isupper())\n",
    "loww = sum(1 for c in ee if c.islower())\n",
    "\n",
    "print(\"Uppercase letters:\", upp)\n",
    "print(\"Lowercase letters:\", loww)\n"
   ]
  },
  {
   "cell_type": "markdown",
   "metadata": {},
   "source": [
    "3"
   ]
  },
  {
   "cell_type": "code",
   "execution_count": 2,
   "metadata": {},
   "outputs": [
    {
     "name": "stdout",
     "output_type": "stream",
     "text": [
      "Is palindrome: False\n"
     ]
    }
   ],
   "source": [
    "ff = input()\n",
    "ee = ff == ff[::-1]\n",
    "\n",
    "print(ee)\n"
   ]
  },
  {
   "cell_type": "markdown",
   "metadata": {},
   "source": [
    "4"
   ]
  },
  {
   "cell_type": "code",
   "execution_count": null,
   "metadata": {},
   "outputs": [],
   "source": [
    "import time\n",
    "import math\n",
    "\n",
    "ff = int(input(\"number: \"))\n",
    "ee = int(input(\"in milliseconds: \"))\n",
    "\n",
    "time.sleep(ee / 1000)\n",
    "print(f\"Square root of {ff} after {ee} milliseconds is {math.sqrt(ff)}\")\n"
   ]
  },
  {
   "cell_type": "markdown",
   "metadata": {},
   "source": [
    "5"
   ]
  },
  {
   "cell_type": "code",
   "execution_count": 1,
   "metadata": {},
   "outputs": [
    {
     "name": "stdout",
     "output_type": "stream",
     "text": [
      "All elements are True: False\n"
     ]
    }
   ],
   "source": [
    "values = (True, True, False, True)\n",
    "print(\"All elements are True:\", all(values))\n"
   ]
  }
 ],
 "metadata": {
  "kernelspec": {
   "display_name": "Python 3",
   "language": "python",
   "name": "python3"
  },
  "language_info": {
   "codemirror_mode": {
    "name": "ipython",
    "version": 3
   },
   "file_extension": ".py",
   "mimetype": "text/x-python",
   "name": "python",
   "nbconvert_exporter": "python",
   "pygments_lexer": "ipython3",
   "version": "3.13.2"
  }
 },
 "nbformat": 4,
 "nbformat_minor": 2
}
