{
 "cells": [
  {
   "cell_type": "code",
   "execution_count": 1,
   "metadata": {},
   "outputs": [],
   "source": []
  },
  {
   "cell_type": "markdown",
   "metadata": {},
   "source": [
    "1"
   ]
  },
  {
   "cell_type": "code",
   "execution_count": 7,
   "metadata": {},
   "outputs": [
    {
     "name": "stdout",
     "output_type": "stream",
     "text": [
      "<re.Match object; span=(0, 5), match='abbbb'>\n"
     ]
    }
   ],
   "source": [
    "import re\n",
    "x=\"abbbb\"\n",
    "print(re.match(r'ab*', x))"
   ]
  },
  {
   "cell_type": "markdown",
   "metadata": {},
   "source": [
    "2"
   ]
  },
  {
   "cell_type": "code",
   "execution_count": 10,
   "metadata": {},
   "outputs": [
    {
     "name": "stdout",
     "output_type": "stream",
     "text": [
      "<re.Match object; span=(0, 4), match='abbb'>\n",
      "None\n"
     ]
    }
   ],
   "source": [
    "import re\n",
    "y=\"ab\"\n",
    "print(re.match(r'ab{2,3}', x))\n",
    "print(re.match(r'ab{2,3}', y))"
   ]
  },
  {
   "cell_type": "markdown",
   "metadata": {},
   "source": [
    "3"
   ]
  },
  {
   "cell_type": "code",
   "execution_count": 5,
   "metadata": {},
   "outputs": [
    {
     "name": "stdout",
     "output_type": "stream",
     "text": [
      "['abb_bb']\n"
     ]
    }
   ],
   "source": [
    "import re\n",
    "x=\"abb_bb\"\n",
    "print(re.findall(r'\\b[a-z]+_[a-z]+\\b', x))"
   ]
  },
  {
   "cell_type": "markdown",
   "metadata": {},
   "source": [
    "4"
   ]
  },
  {
   "cell_type": "code",
   "execution_count": 26,
   "metadata": {},
   "outputs": [
    {
     "name": "stdout",
     "output_type": "stream",
     "text": [
      "['Ab']\n"
     ]
    }
   ],
   "source": [
    "import re\n",
    "x=\"abbbb\"\n",
    "y=\"abAb\"\n",
    "print(re.findall(r'[A-Z][a-z]+', y))"
   ]
  },
  {
   "cell_type": "markdown",
   "metadata": {},
   "source": [
    "5"
   ]
  },
  {
   "cell_type": "code",
   "execution_count": 2,
   "metadata": {},
   "outputs": [
    {
     "name": "stdout",
     "output_type": "stream",
     "text": [
      "<re.Match object; span=(0, 5), match='abbbb'>\n"
     ]
    }
   ],
   "source": [
    "import re\n",
    "x=\"abbbb\"\n",
    "print(re.match(r'a.*b', x))"
   ]
  },
  {
   "cell_type": "markdown",
   "metadata": {},
   "source": [
    "6"
   ]
  },
  {
   "cell_type": "code",
   "execution_count": 3,
   "metadata": {},
   "outputs": [
    {
     "name": "stdout",
     "output_type": "stream",
     "text": [
      "ab:bbb\n"
     ]
    }
   ],
   "source": [
    "import re\n",
    "x=\"ab,bbb\"\n",
    "print(re.sub(r'[ ,.]', ':', x))"
   ]
  },
  {
   "cell_type": "markdown",
   "metadata": {},
   "source": [
    "7"
   ]
  },
  {
   "cell_type": "code",
   "execution_count": 17,
   "metadata": {},
   "outputs": [
    {
     "name": "stdout",
     "output_type": "stream",
     "text": [
      "thisIsATest\n"
     ]
    }
   ],
   "source": [
    "import re\n",
    "x= \"this_is_a_test\"\n",
    "words = x.split('_')\n",
    "neww = words[0]\n",
    "ff= len(words)\n",
    "for i in range(1,ff):\n",
    "\n",
    "    neww += words[i].capitalize()\n",
    "print(neww)"
   ]
  },
  {
   "cell_type": "markdown",
   "metadata": {},
   "source": [
    "8"
   ]
  },
  {
   "cell_type": "code",
   "execution_count": 9,
   "metadata": {},
   "outputs": [
    {
     "name": "stdout",
     "output_type": "stream",
     "text": [
      "['abbb', 'A', 'Abb', 'B', 'Bb']\n"
     ]
    }
   ],
   "source": [
    "import re\n",
    "x=\"abbbAAbbBBb\"\n",
    "print(re.split(r'(?=[A-Z])', x))"
   ]
  },
  {
   "cell_type": "markdown",
   "metadata": {},
   "source": [
    "9"
   ]
  },
  {
   "cell_type": "code",
   "execution_count": 21,
   "metadata": {},
   "outputs": [
    {
     "name": "stdout",
     "output_type": "stream",
     "text": [
      "a Sb Abb BBb\n"
     ]
    }
   ],
   "source": [
    "import re\n",
    "x=\"aSbAbbBBb\"\n",
    "print(re.sub(r'([a-z])([A-Z])', r'\\1 \\2', x))\n"
   ]
  },
  {
   "cell_type": "markdown",
   "metadata": {},
   "source": [
    "10"
   ]
  },
  {
   "cell_type": "code",
   "execution_count": 12,
   "metadata": {},
   "outputs": [
    {
     "name": "stdout",
     "output_type": "stream",
     "text": [
      "this_is_a_test\n"
     ]
    }
   ],
   "source": [
    "import re\n",
    "x=\"thisIsATest\"\n",
    "print(re.sub(r'(?=[A-Z])', '_', x).lower())"
   ]
  }
 ],
 "metadata": {
  "kernelspec": {
   "display_name": "Python 3",
   "language": "python",
   "name": "python3"
  },
  "language_info": {
   "codemirror_mode": {
    "name": "ipython",
    "version": 3
   },
   "file_extension": ".py",
   "mimetype": "text/x-python",
   "name": "python",
   "nbconvert_exporter": "python",
   "pygments_lexer": "ipython3",
   "version": "3.13.2"
  }
 },
 "nbformat": 4,
 "nbformat_minor": 2
}
