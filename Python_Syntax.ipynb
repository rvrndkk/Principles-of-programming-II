{
 "cells": [
  {
   "cell_type": "markdown",
   "id": "1af0a412-af02-4394-8483-35aed239f31e",
   "metadata": {},
   "source": [
    "CH 'Python Syntax'"
   ]
  },
  {
   "cell_type": "markdown",
   "id": "a506c361-4341-4571-b36e-f9656f5e7e79",
   "metadata": {},
   "source": [
    "EX 1"
   ]
  },
  {
   "cell_type": "code",
   "execution_count": 7,
   "id": "d50d5e58-f8b8-4eab-813e-fbda296eb4a0",
   "metadata": {},
   "outputs": [
    {
     "name": "stdout",
     "output_type": "stream",
     "text": [
      "HELLO!\n"
     ]
    }
   ],
   "source": [
    "if 5 > 2:\n",
    "  print(\"HELLO!\")"
   ]
  },
  {
   "cell_type": "markdown",
   "id": "ef1c27f2-0521-49a8-90d1-8bb8b05e9043",
   "metadata": {},
   "source": [
    "HOW NOT:"
   ]
  },
  {
   "cell_type": "code",
   "execution_count": 3,
   "id": "7a002f97-4b48-4293-8e1a-833fefffc1ac",
   "metadata": {},
   "outputs": [
    {
     "ename": "IndentationError",
     "evalue": "expected an indented block after 'if' statement on line 1 (1472669862.py, line 2)",
     "output_type": "error",
     "traceback": [
      "\u001b[1;36m  Cell \u001b[1;32mIn[3], line 2\u001b[1;36m\u001b[0m\n\u001b[1;33m    print(\"HELLO\")\u001b[0m\n\u001b[1;37m    ^\u001b[0m\n\u001b[1;31mIndentationError\u001b[0m\u001b[1;31m:\u001b[0m expected an indented block after 'if' statement on line 1\n"
     ]
    }
   ],
   "source": [
    "if 5 > 2:\n",
    "print(\"HELLO\")"
   ]
  },
  {
   "cell_type": "markdown",
   "id": "1bcb5519-bb8a-4a13-8048-fb74942fa885",
   "metadata": {},
   "source": [
    "EX 2"
   ]
  },
  {
   "cell_type": "code",
   "execution_count": 5,
   "id": "af92f775-0e9f-4b53-a7aa-e8ca8a164c0a",
   "metadata": {},
   "outputs": [
    {
     "name": "stdout",
     "output_type": "stream",
     "text": [
      "HELLO!\n",
      "HELLO!\n"
     ]
    }
   ],
   "source": [
    "if 5 > 2:\n",
    " print(\"HELLO!\") \n",
    "if 5 > 2:\n",
    "        print(\"HELLO!\") "
   ]
  },
  {
   "cell_type": "markdown",
   "id": "f59c50d8-c212-493a-b795-5650dc08465b",
   "metadata": {},
   "source": [
    "HOW NOT"
   ]
  },
  {
   "cell_type": "code",
   "execution_count": 9,
   "id": "16dade7d-80be-4258-94b8-378610749dac",
   "metadata": {},
   "outputs": [
    {
     "ename": "IndentationError",
     "evalue": "unexpected indent (3430240237.py, line 3)",
     "output_type": "error",
     "traceback": [
      "\u001b[1;36m  Cell \u001b[1;32mIn[9], line 3\u001b[1;36m\u001b[0m\n\u001b[1;33m    print(\"Five is greater than two!\")\u001b[0m\n\u001b[1;37m    ^\u001b[0m\n\u001b[1;31mIndentationError\u001b[0m\u001b[1;31m:\u001b[0m unexpected indent\n"
     ]
    }
   ],
   "source": [
    "if 5 > 2:\n",
    " print(\"Five is greater than two!\")\n",
    "        print(\"Five is greater than two!\")"
   ]
  },
  {
   "cell_type": "markdown",
   "id": "d072c024-d4b6-48d4-a188-f741249c8a15",
   "metadata": {},
   "source": [
    "EX 3"
   ]
  },
  {
   "cell_type": "code",
   "execution_count": 11,
   "id": "98b13cf6-0153-4fa4-a9d4-4532b84feadb",
   "metadata": {},
   "outputs": [],
   "source": [
    "a = 5\n",
    "b = \"Hello, World!\""
   ]
  },
  {
   "cell_type": "markdown",
   "id": "4111be29-f3e4-41f1-a63e-2b05dc338b72",
   "metadata": {},
   "source": [
    "EX 4"
   ]
  },
  {
   "cell_type": "code",
   "execution_count": 13,
   "id": "6515447c-db3c-4568-b4f0-518775bf0a47",
   "metadata": {},
   "outputs": [
    {
     "name": "stdout",
     "output_type": "stream",
     "text": [
      "Hello, World!\n"
     ]
    }
   ],
   "source": [
    "#COMM.\n",
    "print(\"Hello, World!\")"
   ]
  },
  {
   "cell_type": "code",
   "execution_count": null,
   "id": "d7adbc07-f5c0-4144-9999-08ade5943dbc",
   "metadata": {},
   "outputs": [],
   "source": []
  }
 ],
 "metadata": {
  "kernelspec": {
   "display_name": "Python [conda env:base] *",
   "language": "python",
   "name": "conda-base-py"
  },
  "language_info": {
   "codemirror_mode": {
    "name": "ipython",
    "version": 3
   },
   "file_extension": ".py",
   "mimetype": "text/x-python",
   "name": "python",
   "nbconvert_exporter": "python",
   "pygments_lexer": "ipython3",
   "version": "3.12.7"
  }
 },
 "nbformat": 4,
 "nbformat_minor": 5
}
