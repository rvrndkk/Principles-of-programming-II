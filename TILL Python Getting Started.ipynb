{
 "cells": [
  {
   "cell_type": "markdown",
   "id": "21e8b4db-b5e4-4a83-854d-5d0664bdab1b",
   "metadata": {},
   "source": [
    "CH 'HOME'"
   ]
  },
  {
   "cell_type": "markdown",
   "id": "e9a47d73-71c0-4853-9625-833ef17bddec",
   "metadata": {},
   "source": [
    "EX 1"
   ]
  },
  {
   "cell_type": "code",
   "execution_count": 2,
   "id": "dcf6b5e4-7cf7-4993-bcc6-ee10eb57c3e9",
   "metadata": {},
   "outputs": [
    {
     "name": "stdout",
     "output_type": "stream",
     "text": [
      "Hello, World!\n"
     ]
    }
   ],
   "source": [
    "print(\"Hello, World!\")"
   ]
  },
  {
   "cell_type": "markdown",
   "id": "157e11f7-75e7-4844-a345-12ecde8940fd",
   "metadata": {},
   "source": [
    "CH 'Python Introduction'"
   ]
  },
  {
   "cell_type": "markdown",
   "id": "d7b88f75-d6c9-4783-b6d2-bd3b5821a2f0",
   "metadata": {},
   "source": [
    "No excercises"
   ]
  },
  {
   "cell_type": "markdown",
   "id": "2612dac6-a152-4ab0-b007-94f46250b552",
   "metadata": {},
   "source": [
    "CH 'Python Getting Started'"
   ]
  },
  {
   "cell_type": "markdown",
   "id": "535c1243-5986-4987-8847-e52f2ad9999b",
   "metadata": {},
   "source": [
    "EX 1"
   ]
  },
  {
   "cell_type": "code",
   "execution_count": 4,
   "id": "70e36951-97f3-40a4-ab18-92971af77abf",
   "metadata": {},
   "outputs": [
    {
     "name": "stdout",
     "output_type": "stream",
     "text": [
      "3.12.7 | packaged by Anaconda, Inc. | (main, Oct  4 2024, 13:17:27) [MSC v.1929 64 bit (AMD64)]\n"
     ]
    }
   ],
   "source": [
    "import sys\n",
    "\n",
    "print(sys.version)"
   ]
  },
  {
   "cell_type": "markdown",
   "id": "6ec6311a-1adb-4a3d-b6df-02e535e95a0e",
   "metadata": {},
   "source": [
    "EX 2"
   ]
  },
  {
   "cell_type": "code",
   "execution_count": 6,
   "id": "3090a42b-8844-41d6-8f83-bc0bfee9cf21",
   "metadata": {},
   "outputs": [],
   "source": [
    "exit()"
   ]
  },
  {
   "cell_type": "code",
   "execution_count": null,
   "id": "54629c84-cc04-4ca0-acde-4c0289ac0b79",
   "metadata": {},
   "outputs": [],
   "source": []
  }
 ],
 "metadata": {
  "kernelspec": {
   "display_name": "Python [conda env:base] *",
   "language": "python",
   "name": "conda-base-py"
  },
  "language_info": {
   "codemirror_mode": {
    "name": "ipython",
    "version": 3
   },
   "file_extension": ".py",
   "mimetype": "text/x-python",
   "name": "python",
   "nbconvert_exporter": "python",
   "pygments_lexer": "ipython3",
   "version": "3.12.7"
  }
 },
 "nbformat": 4,
 "nbformat_minor": 5
}
