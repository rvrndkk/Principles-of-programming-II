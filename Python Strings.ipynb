{
 "cells": [
  {
   "cell_type": "markdown",
   "id": "ac5708e6-1cf0-4525-8135-c3ed2a858c06",
   "metadata": {},
   "source": [
    "CH 'Python strings'"
   ]
  },
  {
   "cell_type": "markdown",
   "id": "f96bb1dd-a30c-4d72-9497-7a44f41a1622",
   "metadata": {},
   "source": [
    "EX 1"
   ]
  },
  {
   "cell_type": "code",
   "execution_count": 1,
   "id": "f4efbe7c-65f6-461c-aa8f-994fb44fbf18",
   "metadata": {},
   "outputs": [
    {
     "name": "stdout",
     "output_type": "stream",
     "text": [
      "Hello\n",
      "Hello\n"
     ]
    }
   ],
   "source": [
    "print(\"Hello\")\n",
    "print('Hello')"
   ]
  },
  {
   "cell_type": "markdown",
   "id": "aad74d40-0a7c-4039-a789-8bcc2b1c5033",
   "metadata": {},
   "source": [
    "EX 2"
   ]
  },
  {
   "cell_type": "code",
   "execution_count": 3,
   "id": "ccd97a51-1ac2-492e-89c2-db04457c7efa",
   "metadata": {},
   "outputs": [
    {
     "name": "stdout",
     "output_type": "stream",
     "text": [
      "ab\n",
      "ab 'ab'\n",
      "ab \"ab\"\n"
     ]
    }
   ],
   "source": [
    "print(\"ab\")\n",
    "print(\"ab 'ab'\")\n",
    "print('ab \"ab\"')"
   ]
  },
  {
   "cell_type": "markdown",
   "id": "a55e22c7-f7a7-4275-96f0-70eb6667bb71",
   "metadata": {},
   "source": [
    "EX 3"
   ]
  },
  {
   "cell_type": "code",
   "execution_count": 5,
   "id": "50393222-d060-43d7-bf3b-9e299233ccb6",
   "metadata": {},
   "outputs": [
    {
     "name": "stdout",
     "output_type": "stream",
     "text": [
      "Hello\n"
     ]
    }
   ],
   "source": [
    "a = \"Hello\"\n",
    "print(a)"
   ]
  },
  {
   "cell_type": "markdown",
   "id": "dda8e8ff-ece2-48fe-9aeb-a0adf5689dbc",
   "metadata": {},
   "source": [
    "EX 4"
   ]
  },
  {
   "cell_type": "code",
   "execution_count": 7,
   "id": "5fef383f-31e7-4646-8385-454525b92511",
   "metadata": {},
   "outputs": [
    {
     "name": "stdout",
     "output_type": "stream",
     "text": [
      "ooooooooooooooooo\n",
      "ochen dolgyi\n",
      "text.\n"
     ]
    }
   ],
   "source": [
    "a = \"\"\"ooooooooooooooooo\n",
    "ochen dolgyi\n",
    "text.\"\"\"\n",
    "print(a)"
   ]
  },
  {
   "cell_type": "markdown",
   "id": "4ff01bbc-43cd-4864-85dc-bc355ca1c3ca",
   "metadata": {},
   "source": [
    "EX 5"
   ]
  },
  {
   "cell_type": "code",
   "execution_count": 9,
   "id": "c9971085-ae95-4beb-8829-a2eb089e38ee",
   "metadata": {},
   "outputs": [
    {
     "name": "stdout",
     "output_type": "stream",
     "text": [
      "ooooooooooooooooo\n",
      "ochen dolgyi\n",
      "text.\n"
     ]
    }
   ],
   "source": [
    "a = '''ooooooooooooooooo\n",
    "ochen dolgyi\n",
    "text.'''\n",
    "print(a)"
   ]
  },
  {
   "cell_type": "markdown",
   "id": "9e323c0d-673c-427e-a7cc-20e40c68ec05",
   "metadata": {},
   "source": [
    "EX 6"
   ]
  },
  {
   "cell_type": "code",
   "execution_count": 11,
   "id": "18da126c-dde4-4357-b722-bd0013605d61",
   "metadata": {},
   "outputs": [
    {
     "name": "stdout",
     "output_type": "stream",
     "text": [
      "i\n"
     ]
    }
   ],
   "source": [
    "a = \"dimon\"\n",
    "print(a[1])"
   ]
  },
  {
   "cell_type": "markdown",
   "id": "36872d60-713c-4ec6-b4d8-167a96cbb148",
   "metadata": {},
   "source": [
    "EX 7"
   ]
  },
  {
   "cell_type": "code",
   "execution_count": 13,
   "id": "d11faca4-242d-4f74-9637-30a32cd367d1",
   "metadata": {},
   "outputs": [
    {
     "name": "stdout",
     "output_type": "stream",
     "text": [
      "d\n",
      "i\n",
      "m\n",
      "o\n",
      "o\n",
      "n\n"
     ]
    }
   ],
   "source": [
    "for x in \"dimoon\":\n",
    "  print(x)"
   ]
  },
  {
   "cell_type": "markdown",
   "id": "7007d277-bedf-43b4-8eb1-4a41e3df61a6",
   "metadata": {},
   "source": [
    "EX 8"
   ]
  },
  {
   "cell_type": "code",
   "execution_count": 15,
   "id": "2151af28-2a98-4d75-a250-21a935f16349",
   "metadata": {},
   "outputs": [
    {
     "name": "stdout",
     "output_type": "stream",
     "text": [
      "6\n"
     ]
    }
   ],
   "source": [
    "a = \"dimoon\"\n",
    "print(len(a))"
   ]
  },
  {
   "cell_type": "markdown",
   "id": "ee47861a-d283-4339-949b-364d19987f72",
   "metadata": {},
   "source": [
    "EX 9"
   ]
  },
  {
   "cell_type": "code",
   "execution_count": 17,
   "id": "98af99b3-40e3-476f-9a55-23ff06fab4e6",
   "metadata": {},
   "outputs": [
    {
     "name": "stdout",
     "output_type": "stream",
     "text": [
      "True\n"
     ]
    }
   ],
   "source": [
    "txt = \"dimon eto kto!\"\n",
    "print(\"eto\" in txt)"
   ]
  },
  {
   "cell_type": "markdown",
   "id": "196cd360-8d29-4dbf-9fec-e91ee21b0c19",
   "metadata": {},
   "source": [
    "EX 10"
   ]
  },
  {
   "cell_type": "code",
   "execution_count": 19,
   "id": "0bd705fd-989e-4a2d-bb4a-5cca2b8b0240",
   "metadata": {},
   "outputs": [
    {
     "name": "stdout",
     "output_type": "stream",
     "text": [
      "da\n"
     ]
    }
   ],
   "source": [
    "txt = \"dimon eto kto!\"\n",
    "if \"eto\" in txt:\n",
    "  print(\"da\")"
   ]
  },
  {
   "cell_type": "markdown",
   "id": "e5a0f971-7a13-4bb9-81c2-fc044973f7e3",
   "metadata": {},
   "source": [
    "EX 11"
   ]
  },
  {
   "cell_type": "code",
   "execution_count": 21,
   "id": "81122ffc-3c4e-4558-97ed-4e3542b0117b",
   "metadata": {},
   "outputs": [
    {
     "name": "stdout",
     "output_type": "stream",
     "text": [
      "True\n"
     ]
    }
   ],
   "source": [
    "txt = \"dimon eto kto!\"\n",
    "print(\"andrew\" not in txt)"
   ]
  },
  {
   "cell_type": "markdown",
   "id": "5ae554e7-6239-4375-a188-2a3f82a8b757",
   "metadata": {},
   "source": [
    "EX 12"
   ]
  },
  {
   "cell_type": "code",
   "execution_count": 23,
   "id": "fe12740e-b86c-4514-b9d6-0edc139350b2",
   "metadata": {},
   "outputs": [
    {
     "name": "stdout",
     "output_type": "stream",
     "text": [
      "net\n"
     ]
    }
   ],
   "source": [
    "txt = \"dimon eto kto!\"\n",
    "if \"etot\" not in txt:\n",
    "  print(\"net\")"
   ]
  },
  {
   "cell_type": "markdown",
   "id": "898a5d81-2b33-43f9-be59-ab678842da16",
   "metadata": {},
   "source": [
    "EX 13"
   ]
  },
  {
   "cell_type": "code",
   "execution_count": 25,
   "id": "46347456-ce85-430b-89c8-a0a824e616d4",
   "metadata": {},
   "outputs": [
    {
     "name": "stdout",
     "output_type": "stream",
     "text": [
      "itr\n"
     ]
    }
   ],
   "source": [
    "b = \"dmitry\"\n",
    "print(b[2:5])"
   ]
  },
  {
   "cell_type": "markdown",
   "id": "cb7a9204-ddc5-4cb3-8082-7f332b41b83c",
   "metadata": {},
   "source": [
    "EX 14"
   ]
  },
  {
   "cell_type": "code",
   "execution_count": 27,
   "id": "7cb809f1-1065-4f29-bd43-5a1ff2691c89",
   "metadata": {},
   "outputs": [
    {
     "name": "stdout",
     "output_type": "stream",
     "text": [
      "dmitr\n"
     ]
    }
   ],
   "source": [
    "b = \"dmitry\"\n",
    "print(b[:5])"
   ]
  },
  {
   "cell_type": "markdown",
   "id": "79740c55-8e00-4a2f-a121-5894694bbb5e",
   "metadata": {},
   "source": [
    "EX 15"
   ]
  },
  {
   "cell_type": "code",
   "execution_count": 29,
   "id": "ef68405a-7308-4a44-9c06-c7ea3426ca95",
   "metadata": {},
   "outputs": [
    {
     "name": "stdout",
     "output_type": "stream",
     "text": [
      "itry\n"
     ]
    }
   ],
   "source": [
    "b = \"dmitry\"\n",
    "print(b[2:])"
   ]
  },
  {
   "cell_type": "markdown",
   "id": "856b5313-2a3d-4f96-828c-7f142f079580",
   "metadata": {},
   "source": [
    "EX 16"
   ]
  },
  {
   "cell_type": "code",
   "execution_count": 31,
   "id": "a90fb8cc-f6d3-4895-b251-ab79082e9f5e",
   "metadata": {},
   "outputs": [
    {
     "name": "stdout",
     "output_type": "stream",
     "text": [
      "mit\n"
     ]
    }
   ],
   "source": [
    "b = \"dmitry\"\n",
    "print(b[-5:-2])"
   ]
  },
  {
   "cell_type": "markdown",
   "id": "4d6c698d-c908-4e09-ab49-a9d914f3526f",
   "metadata": {},
   "source": [
    "EX 17"
   ]
  },
  {
   "cell_type": "code",
   "execution_count": 33,
   "id": "8ba3962a-888a-4350-8ea2-380ea145e94a",
   "metadata": {},
   "outputs": [
    {
     "name": "stdout",
     "output_type": "stream",
     "text": [
      "DMITRY\n"
     ]
    }
   ],
   "source": [
    "b = \"dmitry\"\n",
    "print(b.upper())"
   ]
  },
  {
   "cell_type": "markdown",
   "id": "1657f1af-9138-4d84-ba9b-b948c48be300",
   "metadata": {},
   "source": [
    "EX 18"
   ]
  },
  {
   "cell_type": "code",
   "execution_count": 35,
   "id": "4bbcc93f-15ab-4e5e-a90e-9ecf5e283b13",
   "metadata": {},
   "outputs": [
    {
     "name": "stdout",
     "output_type": "stream",
     "text": [
      "dmitry\n"
     ]
    }
   ],
   "source": [
    "b = \"dmitry\"\n",
    "print(b.lower())"
   ]
  },
  {
   "cell_type": "markdown",
   "id": "dacbce9e-734f-434d-a269-8c7a9182a281",
   "metadata": {},
   "source": [
    "EX 19"
   ]
  },
  {
   "cell_type": "code",
   "execution_count": 37,
   "id": "a7067a95-c42f-4309-a720-896c0ec5fe58",
   "metadata": {},
   "outputs": [
    {
     "name": "stdout",
     "output_type": "stream",
     "text": [
      "dmitry\n"
     ]
    }
   ],
   "source": [
    "b = \"    dmitry    \"\n",
    "print(b.strip()) # returns \"Hello, World!\""
   ]
  },
  {
   "cell_type": "markdown",
   "id": "e540cdf2-694c-47d3-b313-0c2af013fa9c",
   "metadata": {},
   "source": [
    "EX 20"
   ]
  },
  {
   "cell_type": "code",
   "execution_count": 41,
   "id": "3a5d3e2c-773a-4afd-a0a6-939df64494fe",
   "metadata": {},
   "outputs": [
    {
     "name": "stdout",
     "output_type": "stream",
     "text": [
      "Jmitry\n"
     ]
    }
   ],
   "source": [
    "b = \"dmitry\"\n",
    "print(b.replace(\"d\", \"J\"))"
   ]
  },
  {
   "cell_type": "markdown",
   "id": "0418dd54-7c99-465b-9d5c-35b41ef6261d",
   "metadata": {},
   "source": [
    "EX 21"
   ]
  },
  {
   "cell_type": "code",
   "execution_count": 47,
   "id": "267d6b95-ce14-40d2-be22-c1eec89cf91c",
   "metadata": {},
   "outputs": [
    {
     "name": "stdout",
     "output_type": "stream",
     "text": [
      "['dmi', ' try']\n"
     ]
    }
   ],
   "source": [
    "b = \"dmi, try\"\n",
    "print(b.split(\",\")) # returns ['Hello', ' World!']"
   ]
  },
  {
   "cell_type": "markdown",
   "id": "32ca3f72-b65c-4119-a12c-38ce9d78a789",
   "metadata": {},
   "source": [
    "EX 22"
   ]
  },
  {
   "cell_type": "code",
   "execution_count": 49,
   "id": "f9f9c762-e9de-4688-aa20-8b6fe4fb00a0",
   "metadata": {},
   "outputs": [
    {
     "name": "stdout",
     "output_type": "stream",
     "text": [
      "dimon\n"
     ]
    }
   ],
   "source": [
    "a = \"dim\"\n",
    "b = \"on\"\n",
    "c = a + b\n",
    "print(c)"
   ]
  },
  {
   "cell_type": "markdown",
   "id": "197d82df-deb5-4ffd-af88-9ffb19c70426",
   "metadata": {},
   "source": [
    "EX 23"
   ]
  },
  {
   "cell_type": "code",
   "execution_count": 51,
   "id": "8f2b36f4-3f30-4605-a32f-4c2198e9706a",
   "metadata": {},
   "outputs": [
    {
     "name": "stdout",
     "output_type": "stream",
     "text": [
      "dim on\n"
     ]
    }
   ],
   "source": [
    "a = \"dim\"\n",
    "b = \"on\"\n",
    "c = a + \" \"  + b\n",
    "print(c)"
   ]
  },
  {
   "cell_type": "markdown",
   "id": "63e3c576-c2e6-46f5-bf30-d5cc2475701c",
   "metadata": {},
   "source": [
    "How not"
   ]
  },
  {
   "cell_type": "code",
   "execution_count": 53,
   "id": "eb06c0cb-5c87-46e1-8e95-026c5868c7dc",
   "metadata": {},
   "outputs": [
    {
     "ename": "TypeError",
     "evalue": "can only concatenate str (not \"int\") to str",
     "output_type": "error",
     "traceback": [
      "\u001b[1;31m---------------------------------------------------------------------------\u001b[0m",
      "\u001b[1;31mTypeError\u001b[0m                                 Traceback (most recent call last)",
      "Cell \u001b[1;32mIn[53], line 2\u001b[0m\n\u001b[0;32m      1\u001b[0m age \u001b[38;5;241m=\u001b[39m \u001b[38;5;241m36\u001b[39m\n\u001b[1;32m----> 2\u001b[0m txt \u001b[38;5;241m=\u001b[39m \u001b[38;5;124m\"\u001b[39m\u001b[38;5;124mMy name is John, I am \u001b[39m\u001b[38;5;124m\"\u001b[39m \u001b[38;5;241m+\u001b[39m age\n\u001b[0;32m      3\u001b[0m \u001b[38;5;28mprint\u001b[39m(txt)\n",
      "\u001b[1;31mTypeError\u001b[0m: can only concatenate str (not \"int\") to str"
     ]
    }
   ],
   "source": [
    "age = 36\n",
    "txt = \"My name is John, I am \" + age\n",
    "print(txt)"
   ]
  },
  {
   "cell_type": "markdown",
   "id": "2706050d-6861-4ec1-8929-afd7204a80ec",
   "metadata": {},
   "source": [
    "EX 24"
   ]
  },
  {
   "cell_type": "code",
   "execution_count": 55,
   "id": "89078a79-5747-4fcf-86fa-6efac9fa5707",
   "metadata": {},
   "outputs": [
    {
     "name": "stdout",
     "output_type": "stream",
     "text": [
      "dime 36 let\n"
     ]
    }
   ],
   "source": [
    "age = 36\n",
    "txt = f\"dime {age} let\"\n",
    "print(txt)"
   ]
  },
  {
   "cell_type": "markdown",
   "id": "dae436eb-af9a-4e67-a5a3-66e45e01a300",
   "metadata": {},
   "source": [
    "EX 25"
   ]
  },
  {
   "cell_type": "code",
   "execution_count": 57,
   "id": "a3a5685c-150f-45b8-bc84-6fa48ba171ed",
   "metadata": {},
   "outputs": [
    {
     "name": "stdout",
     "output_type": "stream",
     "text": [
      "The price is 59 dollars\n"
     ]
    }
   ],
   "source": [
    "price = 59\n",
    "txt = f\"The price is {price} dollars\"\n",
    "print(txt)"
   ]
  },
  {
   "cell_type": "markdown",
   "id": "cb4221ba-8dd6-4057-ab72-bbfd53be8d78",
   "metadata": {},
   "source": [
    "EX 26"
   ]
  },
  {
   "cell_type": "code",
   "execution_count": 61,
   "id": "c3cce3a0-597b-43b8-b388-b3821ff717e3",
   "metadata": {},
   "outputs": [
    {
     "name": "stdout",
     "output_type": "stream",
     "text": [
      "The price is 2704 dollars\n"
     ]
    }
   ],
   "source": [
    "txt = f\"The price is {52 * 52} dollars\"\n",
    "print(txt)"
   ]
  },
  {
   "cell_type": "markdown",
   "id": "0ce7da19-2f5a-48a1-9f09-d246d386a1b1",
   "metadata": {},
   "source": [
    "How not"
   ]
  },
  {
   "cell_type": "code",
   "execution_count": 63,
   "id": "acd10f6d-5f52-4f60-898b-1539dd3ef5f6",
   "metadata": {},
   "outputs": [
    {
     "ename": "SyntaxError",
     "evalue": "invalid syntax (7934146.py, line 1)",
     "output_type": "error",
     "traceback": [
      "\u001b[1;36m  Cell \u001b[1;32mIn[63], line 1\u001b[1;36m\u001b[0m\n\u001b[1;33m    txt = \"We are the so-called \"Vikings\" from the north.\"\u001b[0m\n\u001b[1;37m                                 ^\u001b[0m\n\u001b[1;31mSyntaxError\u001b[0m\u001b[1;31m:\u001b[0m invalid syntax\n"
     ]
    }
   ],
   "source": [
    "txt = \"We are the so-called \"Vikings\" from the north.\""
   ]
  },
  {
   "cell_type": "markdown",
   "id": "14961d74-bfed-4e96-b571-4d4be5f82ae1",
   "metadata": {},
   "source": [
    "EX 27"
   ]
  },
  {
   "cell_type": "code",
   "execution_count": 65,
   "id": "9321f28c-8ad8-4f1c-832c-c452488a2329",
   "metadata": {},
   "outputs": [],
   "source": [
    "txt = \"We are the so-called \\\"Vikings\\\" from the north.\""
   ]
  },
  {
   "cell_type": "markdown",
   "id": "6168ca8b-6f07-4544-a573-21cb0ef56896",
   "metadata": {},
   "source": []
  }
 ],
 "metadata": {
  "kernelspec": {
   "display_name": "Python [conda env:base] *",
   "language": "python",
   "name": "conda-base-py"
  },
  "language_info": {
   "codemirror_mode": {
    "name": "ipython",
    "version": 3
   },
   "file_extension": ".py",
   "mimetype": "text/x-python",
   "name": "python",
   "nbconvert_exporter": "python",
   "pygments_lexer": "ipython3",
   "version": "3.12.7"
  }
 },
 "nbformat": 4,
 "nbformat_minor": 5
}
