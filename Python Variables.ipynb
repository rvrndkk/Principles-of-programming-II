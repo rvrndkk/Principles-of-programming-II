{
 "cells": [
  {
   "cell_type": "markdown",
   "id": "9da87eb6-09cd-484d-accf-c84089160430",
   "metadata": {},
   "source": [
    "Python Comments"
   ]
  },
  {
   "cell_type": "markdown",
   "id": "8879bb05-e772-4e3d-88ef-3e80e6acdc4f",
   "metadata": {},
   "source": [
    "EX 1"
   ]
  },
  {
   "cell_type": "code",
   "execution_count": 1,
   "id": "9be0cb59-8744-48e5-94a0-6075773257b2",
   "metadata": {},
   "outputs": [
    {
     "name": "stdout",
     "output_type": "stream",
     "text": [
      "5\n",
      "dimon\n"
     ]
    }
   ],
   "source": [
    "a = 5\n",
    "b = \"dimon\"\n",
    "print(a)\n",
    "print(b)"
   ]
  },
  {
   "cell_type": "markdown",
   "id": "60308428-1d6b-4ec0-820a-9621efb38601",
   "metadata": {},
   "source": [
    "EX 2"
   ]
  },
  {
   "cell_type": "code",
   "execution_count": 5,
   "id": "d0c739b4-178e-4f04-8799-94a29ca96471",
   "metadata": {},
   "outputs": [
    {
     "name": "stdout",
     "output_type": "stream",
     "text": [
      "dimon\n"
     ]
    }
   ],
   "source": [
    "a = 4       # a - int\n",
    "a = \"dimon\" # a - str\n",
    "print(a)"
   ]
  },
  {
   "cell_type": "markdown",
   "id": "9d4271a5-2894-49e6-999a-d6fbfd1575f1",
   "metadata": {},
   "source": [
    "EX 3"
   ]
  },
  {
   "cell_type": "code",
   "execution_count": 7,
   "id": "f9f36f67-d0fa-41a1-b219-c97f22ddc517",
   "metadata": {},
   "outputs": [],
   "source": [
    "a = str(3)    # a '3'\n",
    "b = int(3)    # b 3\n",
    "c = float(3)  # c 3.0"
   ]
  },
  {
   "cell_type": "markdown",
   "id": "4616377a-d10e-4069-a12b-cc4cc2ff324c",
   "metadata": {},
   "source": [
    "EX 4"
   ]
  },
  {
   "cell_type": "code",
   "execution_count": 9,
   "id": "8cf28d51-2463-4e56-b428-233b170b0e5e",
   "metadata": {},
   "outputs": [
    {
     "name": "stdout",
     "output_type": "stream",
     "text": [
      "<class 'int'>\n",
      "<class 'str'>\n"
     ]
    }
   ],
   "source": [
    "a = 5\n",
    "b = \"dimon\"\n",
    "print( type(a))\n",
    "print(type(b))"
   ]
  },
  {
   "cell_type": "code",
   "execution_count": null,
   "id": "348b14c5-955e-499a-9636-055072264f30",
   "metadata": {},
   "outputs": [],
   "source": [
    "EX 5"
   ]
  },
  {
   "cell_type": "code",
   "execution_count": 11,
   "id": "125abcdb-fb48-49c8-9d48-d02e0c9d438d",
   "metadata": {},
   "outputs": [],
   "source": [
    "a = \"dimon\"\n",
    "# same as\n",
    "a = 'dimon'"
   ]
  },
  {
   "cell_type": "markdown",
   "id": "83087be7-6d35-4747-91ea-33145b0e4628",
   "metadata": {},
   "source": [
    "EX 6"
   ]
  },
  {
   "cell_type": "code",
   "execution_count": 13,
   "id": "fd043d33-abeb-4f4c-80cf-c7f1011ae392",
   "metadata": {},
   "outputs": [],
   "source": [
    "a = 4\n",
    "A = \"dimon\"\n",
    "#A != a"
   ]
  },
  {
   "cell_type": "markdown",
   "id": "0c6429dd-4c25-4f63-a976-a653cc031df1",
   "metadata": {},
   "source": [
    "EX 7"
   ]
  },
  {
   "cell_type": "code",
   "execution_count": 15,
   "id": "2a81540d-206d-4550-b5bb-9a545d3ae6e1",
   "metadata": {},
   "outputs": [],
   "source": [
    "m = \"dimon\"\n",
    "m_v = \"dimon\"\n",
    "_m_v = \"dimon\"\n",
    "mV = \"dimon\"\n",
    "M = \"dimon\"\n",
    "m2 = \"dimon\""
   ]
  },
  {
   "cell_type": "markdown",
   "id": "92d96636-adae-4d38-9c89-3d7844c3faa3",
   "metadata": {},
   "source": [
    "HOW NOT"
   ]
  },
  {
   "cell_type": "code",
   "execution_count": 17,
   "id": "3b21b081-33b9-4369-8453-39a9d21b1288",
   "metadata": {},
   "outputs": [
    {
     "ename": "SyntaxError",
     "evalue": "invalid decimal literal (672772299.py, line 1)",
     "output_type": "error",
     "traceback": [
      "\u001b[1;36m  Cell \u001b[1;32mIn[17], line 1\u001b[1;36m\u001b[0m\n\u001b[1;33m    2m = \"John\"\u001b[0m\n\u001b[1;37m    ^\u001b[0m\n\u001b[1;31mSyntaxError\u001b[0m\u001b[1;31m:\u001b[0m invalid decimal literal\n"
     ]
    }
   ],
   "source": [
    "2m = \"dimon\"\n",
    "m-v = \"dimon\"\n",
    "m v = \"dimon\""
   ]
  },
  {
   "cell_type": "markdown",
   "id": "07b8609d-29ef-4cc0-a69f-6c6b6759a209",
   "metadata": {},
   "source": [
    "Camel Case"
   ]
  },
  {
   "cell_type": "code",
   "execution_count": null,
   "id": "96abb7a5-0f9d-4b4c-b77e-21620dae1d35",
   "metadata": {},
   "outputs": [],
   "source": [
    "myVarName = \"dimon\""
   ]
  },
  {
   "cell_type": "markdown",
   "id": "77285903-1bcf-487e-ad89-2afd5a5ae839",
   "metadata": {},
   "source": [
    "Pascal Case"
   ]
  },
  {
   "cell_type": "code",
   "execution_count": null,
   "id": "6af68fe2-cd92-4ce7-8b34-5128f6ca23e2",
   "metadata": {},
   "outputs": [],
   "source": [
    "MyVarName = \"dimon\""
   ]
  },
  {
   "cell_type": "markdown",
   "id": "e1ba6b9d-c692-4c1f-a626-9fd964f6814c",
   "metadata": {},
   "source": [
    "Snake Case"
   ]
  },
  {
   "cell_type": "code",
   "execution_count": 19,
   "id": "d8d3f05b-1a9f-4751-a7a7-d67fb9ab5e09",
   "metadata": {},
   "outputs": [],
   "source": [
    "my_var_name = \"dimon\""
   ]
  },
  {
   "cell_type": "markdown",
   "id": "1f385fea-a1ef-4096-9c13-3e472b2ea422",
   "metadata": {},
   "source": [
    "EX 8"
   ]
  },
  {
   "cell_type": "code",
   "execution_count": 21,
   "id": "a6c212c6-8a4c-4669-b5fe-5f617e8a20fe",
   "metadata": {},
   "outputs": [
    {
     "name": "stdout",
     "output_type": "stream",
     "text": [
      "A\n",
      "B\n",
      "C\n"
     ]
    }
   ],
   "source": [
    "a, b, c = \"A\", \"B\", \"C\"\n",
    "print(a)\n",
    "print(b)\n",
    "print(c)"
   ]
  },
  {
   "cell_type": "markdown",
   "id": "d25170a8-8290-46a1-b96d-266b6b086a65",
   "metadata": {},
   "source": [
    "EX 9"
   ]
  },
  {
   "cell_type": "code",
   "execution_count": 23,
   "id": "9ae5d643-3a59-43a3-a126-169070d1f39c",
   "metadata": {},
   "outputs": [
    {
     "name": "stdout",
     "output_type": "stream",
     "text": [
      "A\n",
      "A\n",
      "A\n"
     ]
    }
   ],
   "source": [
    "a = b = c = \"A\"\n",
    "print(a)\n",
    "print(b)\n",
    "print(c)"
   ]
  },
  {
   "cell_type": "markdown",
   "id": "2775b85b-2d95-4a1e-95ba-2ac9ebcb1d7e",
   "metadata": {},
   "source": [
    "EX 10"
   ]
  },
  {
   "cell_type": "code",
   "execution_count": 27,
   "id": "ba22ad74-7109-4458-b87d-fcc6139b242a",
   "metadata": {},
   "outputs": [
    {
     "name": "stdout",
     "output_type": "stream",
     "text": [
      "apple\n",
      "banana\n",
      "cherry\n"
     ]
    }
   ],
   "source": [
    "#lists\n",
    "chto = [\"apple\", \"banana\", \"cherry\"]\n",
    "a, b, c = chto\n",
    "print(a)\n",
    "print(b)\n",
    "print(c)"
   ]
  },
  {
   "cell_type": "markdown",
   "id": "6366338e-5134-4ae0-ba45-04aca3099bb1",
   "metadata": {},
   "source": [
    "EX 11"
   ]
  },
  {
   "cell_type": "code",
   "execution_count": 29,
   "id": "5809453c-0a30-48e2-a01e-a5c9b5227293",
   "metadata": {},
   "outputs": [
    {
     "name": "stdout",
     "output_type": "stream",
     "text": [
      "dimon\n"
     ]
    }
   ],
   "source": [
    "a = \"dimon\"\n",
    "print(a)"
   ]
  },
  {
   "cell_type": "markdown",
   "id": "4a9263cc-b6b5-4551-9f25-5361e8de28f7",
   "metadata": {},
   "source": [
    "EX 12"
   ]
  },
  {
   "cell_type": "code",
   "execution_count": 31,
   "id": "c8fe1802-cc31-45a2-a62a-9e7b0eaf40fb",
   "metadata": {},
   "outputs": [
    {
     "name": "stdout",
     "output_type": "stream",
     "text": [
      "A B C\n"
     ]
    }
   ],
   "source": [
    "a = \"A\"\n",
    "b = \"B\"\n",
    "c = \"C\"\n",
    "print(a, b, c)"
   ]
  },
  {
   "cell_type": "markdown",
   "id": "da100995-9ab8-4829-829d-2dfc73140e17",
   "metadata": {},
   "source": [
    "EX 13"
   ]
  },
  {
   "cell_type": "code",
   "execution_count": 33,
   "id": "510c0159-82e0-49dd-afd2-88fc1838880f",
   "metadata": {},
   "outputs": [
    {
     "name": "stdout",
     "output_type": "stream",
     "text": [
      "ABC\n"
     ]
    }
   ],
   "source": [
    "a = \"A\"\n",
    "b = \"B\"\n",
    "c = \"C\"\n",
    "print(a+ b+ c)"
   ]
  },
  {
   "cell_type": "markdown",
   "id": "8fe9527c-4438-48a0-86bf-5378755baa46",
   "metadata": {},
   "source": [
    "EX 14"
   ]
  },
  {
   "cell_type": "code",
   "execution_count": 35,
   "id": "42992d83-5d71-4504-bdc0-4d6e6c08957e",
   "metadata": {},
   "outputs": [
    {
     "name": "stdout",
     "output_type": "stream",
     "text": [
      "104\n"
     ]
    }
   ],
   "source": [
    "a = 52\n",
    "b = 52\n",
    "print(a + b)"
   ]
  },
  {
   "cell_type": "markdown",
   "id": "e8474970-8a7d-4d81-bbcd-e37273198ea5",
   "metadata": {},
   "source": [
    "HOW NOT"
   ]
  },
  {
   "cell_type": "code",
   "execution_count": 37,
   "id": "e03f328f-43d1-4cbc-96d6-4689a7b2b458",
   "metadata": {},
   "outputs": [
    {
     "ename": "TypeError",
     "evalue": "unsupported operand type(s) for +: 'int' and 'str'",
     "output_type": "error",
     "traceback": [
      "\u001b[1;31m---------------------------------------------------------------------------\u001b[0m",
      "\u001b[1;31mTypeError\u001b[0m                                 Traceback (most recent call last)",
      "Cell \u001b[1;32mIn[37], line 3\u001b[0m\n\u001b[0;32m      1\u001b[0m a \u001b[38;5;241m=\u001b[39m \u001b[38;5;241m5\u001b[39m\n\u001b[0;32m      2\u001b[0m b \u001b[38;5;241m=\u001b[39m \u001b[38;5;124m\"\u001b[39m\u001b[38;5;124mdima\u001b[39m\u001b[38;5;124m\"\u001b[39m\n\u001b[1;32m----> 3\u001b[0m \u001b[38;5;28mprint\u001b[39m(a \u001b[38;5;241m+\u001b[39m b)\n",
      "\u001b[1;31mTypeError\u001b[0m: unsupported operand type(s) for +: 'int' and 'str'"
     ]
    }
   ],
   "source": [
    "a = 5\n",
    "b = \"dima\"\n",
    "print(a + b)"
   ]
  },
  {
   "cell_type": "markdown",
   "id": "7e1216b7-1ad4-4601-a30c-280cbfad17b1",
   "metadata": {},
   "source": [
    "EX 15"
   ]
  },
  {
   "cell_type": "code",
   "execution_count": 39,
   "id": "fdd1c0c0-d68f-46f4-9e37-bad27181acc9",
   "metadata": {},
   "outputs": [
    {
     "name": "stdout",
     "output_type": "stream",
     "text": [
      "5 dima\n"
     ]
    }
   ],
   "source": [
    "a = 5\n",
    "b = \"dima\"\n",
    "print(a , b)"
   ]
  },
  {
   "cell_type": "markdown",
   "id": "23e89803-fac9-4080-9a18-5f5e8d039ea1",
   "metadata": {},
   "source": [
    "EX 16"
   ]
  },
  {
   "cell_type": "code",
   "execution_count": 41,
   "id": "5cf34579-514c-41bc-a91c-ae1c4710cb5f",
   "metadata": {},
   "outputs": [
    {
     "name": "stdout",
     "output_type": "stream",
     "text": [
      "dima m\n"
     ]
    }
   ],
   "source": [
    "a = \"m\"\n",
    "\n",
    "def myfunc():\n",
    "  print(\"dima \" + a)\n",
    "\n",
    "myfunc()"
   ]
  },
  {
   "cell_type": "markdown",
   "id": "e121acb4-c262-4772-8ce6-cef542313360",
   "metadata": {},
   "source": [
    "EX 17"
   ]
  },
  {
   "cell_type": "code",
   "execution_count": 43,
   "id": "a0d0e581-a76f-4c3b-a545-aa06eb2a8623",
   "metadata": {},
   "outputs": [
    {
     "name": "stdout",
     "output_type": "stream",
     "text": [
      "dima b\n",
      "dima a\n"
     ]
    }
   ],
   "source": [
    "a = \"a\"\n",
    "\n",
    "def myfunc():\n",
    "  a = \"b\"\n",
    "  print(\"dima \" + a)\n",
    "\n",
    "myfunc()\n",
    "\n",
    "print(\"dima \" + a)"
   ]
  },
  {
   "cell_type": "markdown",
   "id": "134580ec-5f8a-409e-b1a1-cdb16f221c73",
   "metadata": {},
   "source": [
    "EX 18"
   ]
  },
  {
   "cell_type": "code",
   "execution_count": 45,
   "id": "ff758e50-bac7-4c96-bdf6-e086c08be0d3",
   "metadata": {},
   "outputs": [
    {
     "name": "stdout",
     "output_type": "stream",
     "text": [
      "dima a\n"
     ]
    }
   ],
   "source": [
    "def myfunc():\n",
    "  global a\n",
    "  a = \"a\"\n",
    "\n",
    "myfunc()\n",
    "\n",
    "print(\"dima \" + a)"
   ]
  },
  {
   "cell_type": "markdown",
   "id": "551b9822-19df-4ace-b302-e4a6ae55e437",
   "metadata": {},
   "source": [
    "EX 19"
   ]
  },
  {
   "cell_type": "code",
   "execution_count": 49,
   "id": "bec860ab-4f95-43e7-900a-c2dc947249c8",
   "metadata": {},
   "outputs": [
    {
     "name": "stdout",
     "output_type": "stream",
     "text": [
      "dima b\n"
     ]
    }
   ],
   "source": [
    "a = \"a\"\n",
    "\n",
    "def myfunc():\n",
    "  global a\n",
    "  a = \"b\"\n",
    "\n",
    "myfunc()\n",
    "\n",
    "print(\"dima \" + a)"
   ]
  },
  {
   "cell_type": "code",
   "execution_count": null,
   "id": "6beea95d-78d7-4845-a05e-6ccae357f5d1",
   "metadata": {},
   "outputs": [],
   "source": []
  }
 ],
 "metadata": {
  "kernelspec": {
   "display_name": "Python [conda env:base] *",
   "language": "python",
   "name": "conda-base-py"
  },
  "language_info": {
   "codemirror_mode": {
    "name": "ipython",
    "version": 3
   },
   "file_extension": ".py",
   "mimetype": "text/x-python",
   "name": "python",
   "nbconvert_exporter": "python",
   "pygments_lexer": "ipython3",
   "version": "3.12.7"
  }
 },
 "nbformat": 4,
 "nbformat_minor": 5
}
