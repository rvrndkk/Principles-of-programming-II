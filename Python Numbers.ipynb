{
 "cells": [
  {
   "cell_type": "markdown",
   "id": "3387d15a-e22a-4e2f-8ab2-98438eddea0a",
   "metadata": {},
   "source": [
    "CH 'Python Numbers'"
   ]
  },
  {
   "cell_type": "markdown",
   "id": "340c49d7-8467-4732-be11-4200d893a86c",
   "metadata": {},
   "source": [
    "EX 1"
   ]
  },
  {
   "cell_type": "code",
   "execution_count": 1,
   "id": "c7835a6a-bdee-4524-945f-08536a0635d0",
   "metadata": {},
   "outputs": [],
   "source": [
    "a = 52    # int\n",
    "b= 52.52  # float\n",
    "c = 52j   # complex"
   ]
  },
  {
   "cell_type": "markdown",
   "id": "f0596ff9-a577-4a5b-b680-5520ac198cd4",
   "metadata": {},
   "source": [
    "EX 2"
   ]
  },
  {
   "cell_type": "code",
   "execution_count": 3,
   "id": "123373c3-1206-4d6d-a89d-ea8cef3169f8",
   "metadata": {},
   "outputs": [
    {
     "name": "stdout",
     "output_type": "stream",
     "text": [
      "<class 'int'>\n",
      "<class 'float'>\n",
      "<class 'complex'>\n"
     ]
    }
   ],
   "source": [
    "print(type(a))\n",
    "print(type(b))\n",
    "print(type(c))"
   ]
  },
  {
   "cell_type": "markdown",
   "id": "7d3078f6-0046-4035-bcd9-6e4240e0d004",
   "metadata": {},
   "source": [
    "EX 3"
   ]
  },
  {
   "cell_type": "code",
   "execution_count": 5,
   "id": "f6a3ff51-4bab-49ad-ad2b-e63e99cede10",
   "metadata": {},
   "outputs": [
    {
     "name": "stdout",
     "output_type": "stream",
     "text": [
      "<class 'int'>\n",
      "<class 'int'>\n",
      "<class 'int'>\n"
     ]
    }
   ],
   "source": [
    "a = 52\n",
    "b = 5252525252525252\n",
    "c = -52525252\n",
    "\n",
    "print(type(a))\n",
    "print(type(b))\n",
    "print(type(c))"
   ]
  },
  {
   "cell_type": "markdown",
   "id": "b312d1a1-f840-4c2c-95ac-faac94b764af",
   "metadata": {},
   "source": [
    "EX 4"
   ]
  },
  {
   "cell_type": "code",
   "execution_count": 7,
   "id": "1da2f841-a09b-4682-95d4-4723304a994d",
   "metadata": {},
   "outputs": [
    {
     "name": "stdout",
     "output_type": "stream",
     "text": [
      "<class 'float'>\n",
      "<class 'float'>\n",
      "<class 'float'>\n"
     ]
    }
   ],
   "source": [
    "a = 52.52\n",
    "b = 1.0\n",
    "c = -52.52\n",
    "\n",
    "print(type(a))\n",
    "print(type(b))\n",
    "print(type(c))"
   ]
  },
  {
   "cell_type": "markdown",
   "id": "bc9205ab-96f1-49fd-914e-b38e8924c5d5",
   "metadata": {},
   "source": [
    "EX 5"
   ]
  },
  {
   "cell_type": "code",
   "execution_count": 9,
   "id": "998e7297-0ab2-4244-8ea7-691b021ea08f",
   "metadata": {},
   "outputs": [
    {
     "name": "stdout",
     "output_type": "stream",
     "text": [
      "<class 'float'>\n",
      "<class 'float'>\n",
      "<class 'float'>\n"
     ]
    }
   ],
   "source": [
    "a = 52e3\n",
    "b = 52E4\n",
    "c = -52.52e100\n",
    "\n",
    "print(type(a))\n",
    "print(type(b))\n",
    "print(type(c))"
   ]
  },
  {
   "cell_type": "markdown",
   "id": "32429934-bc7b-47bc-b013-cc92bab700d2",
   "metadata": {},
   "source": [
    "EX 6"
   ]
  },
  {
   "cell_type": "code",
   "execution_count": 11,
   "id": "27aaee96-fbe5-4d1c-aedf-0d3e3227fa4e",
   "metadata": {},
   "outputs": [
    {
     "name": "stdout",
     "output_type": "stream",
     "text": [
      "<class 'complex'>\n",
      "<class 'complex'>\n",
      "<class 'complex'>\n"
     ]
    }
   ],
   "source": [
    "a = 3+5j\n",
    "b = 5j\n",
    "c = -5j\n",
    "\n",
    "print(type(a))\n",
    "print(type(b))\n",
    "print(type(c))"
   ]
  },
  {
   "cell_type": "markdown",
   "id": "497cf6c5-4935-4b53-98f1-0131a51a606e",
   "metadata": {},
   "source": [
    "EX 7"
   ]
  },
  {
   "cell_type": "code",
   "execution_count": 13,
   "id": "3b2618c8-0103-4dbb-8d1b-eeb99db6b604",
   "metadata": {},
   "outputs": [
    {
     "name": "stdout",
     "output_type": "stream",
     "text": [
      "1.0\n",
      "2\n",
      "(1+0j)\n",
      "<class 'float'>\n",
      "<class 'int'>\n",
      "<class 'complex'>\n"
     ]
    }
   ],
   "source": [
    "a = 1    # int\n",
    "b = 2.8  # float\n",
    "c = 1j   # complex\n",
    "\n",
    "#convert from int to float:\n",
    "x = float(a)\n",
    "\n",
    "#convert from float to int:\n",
    "y = int(b)\n",
    "\n",
    "#convert from int to complex:\n",
    "z = complex(a)\n",
    "\n",
    "print(x)\n",
    "print(y)\n",
    "print(z)\n",
    "\n",
    "print(type(x))\n",
    "print(type(y))\n",
    "print(type(z))"
   ]
  },
  {
   "cell_type": "markdown",
   "id": "3247c94b-fd6a-4e10-8bc9-457120c4a476",
   "metadata": {},
   "source": [
    "EX 8"
   ]
  },
  {
   "cell_type": "code",
   "execution_count": 15,
   "id": "57a6d4c5-3281-4cf5-ad81-4a34f07c31a0",
   "metadata": {},
   "outputs": [
    {
     "name": "stdout",
     "output_type": "stream",
     "text": [
      "997\n"
     ]
    }
   ],
   "source": [
    "import random\n",
    "\n",
    "print(random.randrange(52, 5252))"
   ]
  },
  {
   "cell_type": "code",
   "execution_count": null,
   "id": "08d578fe-7b0b-448e-b4b0-1f81727795ad",
   "metadata": {},
   "outputs": [],
   "source": []
  }
 ],
 "metadata": {
  "kernelspec": {
   "display_name": "Python [conda env:base] *",
   "language": "python",
   "name": "conda-base-py"
  },
  "language_info": {
   "codemirror_mode": {
    "name": "ipython",
    "version": 3
   },
   "file_extension": ".py",
   "mimetype": "text/x-python",
   "name": "python",
   "nbconvert_exporter": "python",
   "pygments_lexer": "ipython3",
   "version": "3.12.7"
  }
 },
 "nbformat": 4,
 "nbformat_minor": 5
}
