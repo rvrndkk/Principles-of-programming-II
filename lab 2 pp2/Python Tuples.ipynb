{
 "cells": [
  {
   "cell_type": "markdown",
   "id": "1778bd12-86e9-460f-bbd8-88380cf891f9",
   "metadata": {},
   "source": [
    "CH \"Python Tuples\""
   ]
  },
  {
   "cell_type": "markdown",
   "id": "175b9e87-89f0-45e1-b2ed-73584316f1a1",
   "metadata": {},
   "source": [
    "EX 1"
   ]
  },
  {
   "cell_type": "code",
   "execution_count": 1,
   "id": "d867f2d5-d873-4d17-a701-3dae0ffa305a",
   "metadata": {},
   "outputs": [],
   "source": [
    "mytuple = (\"apple\", \"banana\", \"cherry\")"
   ]
  },
  {
   "cell_type": "markdown",
   "id": "b64ca981-34be-4c3d-98e6-03e52da8eabd",
   "metadata": {},
   "source": [
    "EX 2"
   ]
  },
  {
   "cell_type": "code",
   "execution_count": 3,
   "id": "589dd394-f6fb-4daf-8769-ceea87aa56aa",
   "metadata": {},
   "outputs": [
    {
     "name": "stdout",
     "output_type": "stream",
     "text": [
      "('apple', 'banana', 'cherry')\n"
     ]
    }
   ],
   "source": [
    "thistuple = (\"apple\", \"banana\", \"cherry\")\n",
    "print(thistuple)"
   ]
  },
  {
   "cell_type": "markdown",
   "id": "8a7d4c81-6ce6-43a3-9c7d-937f607c0311",
   "metadata": {},
   "source": [
    "EX 3"
   ]
  },
  {
   "cell_type": "code",
   "execution_count": 5,
   "id": "3ef2b778-2402-4c0b-aa73-6a84b001f057",
   "metadata": {},
   "outputs": [
    {
     "name": "stdout",
     "output_type": "stream",
     "text": [
      "3\n"
     ]
    }
   ],
   "source": [
    "thistuple = (\"apple\", \"banana\", \"cherry\")\n",
    "print(len(thistuple))"
   ]
  },
  {
   "cell_type": "markdown",
   "id": "d396d45f-fb46-49c7-9fc9-d91489e82170",
   "metadata": {},
   "source": [
    "EX 4"
   ]
  },
  {
   "cell_type": "code",
   "execution_count": 7,
   "id": "1e022233-69fa-4692-897e-6f18986e7b74",
   "metadata": {},
   "outputs": [
    {
     "name": "stdout",
     "output_type": "stream",
     "text": [
      "<class 'tuple'>\n",
      "<class 'str'>\n"
     ]
    }
   ],
   "source": [
    "thistuple = (\"apple\",)\n",
    "print(type(thistuple))\n",
    "\n",
    "#NOT a tuple\n",
    "thistuple = (\"apple\")\n",
    "print(type(thistuple))"
   ]
  },
  {
   "cell_type": "markdown",
   "id": "f9a9bbfd-3827-46c6-bd42-04195c23d733",
   "metadata": {},
   "source": [
    "EX 5"
   ]
  },
  {
   "cell_type": "code",
   "execution_count": 9,
   "id": "78048ad6-8a48-4385-99b1-1bf6e32aef91",
   "metadata": {},
   "outputs": [],
   "source": [
    "tuple1 = (\"apple\", \"banana\", \"cherry\")\n",
    "tuple2 = (1, 5, 7, 9, 3)\n",
    "tuple3 = (True, False, False)"
   ]
  },
  {
   "cell_type": "markdown",
   "id": "cb7c085f-ba57-407c-8782-4e8521945084",
   "metadata": {},
   "source": [
    "EX 6"
   ]
  },
  {
   "cell_type": "code",
   "execution_count": 11,
   "id": "c5fd2062-862a-408c-a961-4c896f8e0f71",
   "metadata": {},
   "outputs": [],
   "source": [
    "tuple1 = (\"abc\", 34, True, 40, \"male\")"
   ]
  },
  {
   "cell_type": "markdown",
   "id": "8ec7b2da-a954-4e21-bf8f-c0e3606b0155",
   "metadata": {},
   "source": [
    "EX 7"
   ]
  },
  {
   "cell_type": "code",
   "execution_count": 13,
   "id": "51b18148-fa73-4968-ac56-c620d400a28f",
   "metadata": {},
   "outputs": [
    {
     "name": "stdout",
     "output_type": "stream",
     "text": [
      "<class 'tuple'>\n"
     ]
    }
   ],
   "source": [
    "mytuple = (\"apple\", \"banana\", \"cherry\")\n",
    "print(type(mytuple))"
   ]
  },
  {
   "cell_type": "markdown",
   "id": "8d0595fa-8786-4cde-afd2-035c308ece24",
   "metadata": {},
   "source": [
    "EX 8"
   ]
  },
  {
   "cell_type": "code",
   "execution_count": 15,
   "id": "57f00e5e-2ddc-42e6-ad70-6861048c1655",
   "metadata": {},
   "outputs": [
    {
     "name": "stdout",
     "output_type": "stream",
     "text": [
      "banana\n"
     ]
    }
   ],
   "source": [
    "thistuple = (\"apple\", \"banana\", \"cherry\")\n",
    "print(thistuple[1])"
   ]
  },
  {
   "cell_type": "markdown",
   "id": "1611bf66-29a4-4fe5-bbd4-fbb0c0fc3971",
   "metadata": {},
   "source": [
    "EX 9"
   ]
  },
  {
   "cell_type": "code",
   "execution_count": 17,
   "id": "0537fbab-a169-4ca9-9d79-535aec1fec0c",
   "metadata": {},
   "outputs": [
    {
     "name": "stdout",
     "output_type": "stream",
     "text": [
      "cherry\n"
     ]
    }
   ],
   "source": [
    "thistuple = (\"apple\", \"banana\", \"cherry\")\n",
    "print(thistuple[-1])"
   ]
  },
  {
   "cell_type": "markdown",
   "id": "c36e2845-196c-420f-b6cd-39d3032ca6c6",
   "metadata": {},
   "source": [
    "EX 10"
   ]
  },
  {
   "cell_type": "code",
   "execution_count": 19,
   "id": "769a31fa-508f-479f-ba9e-32cac7f98c55",
   "metadata": {},
   "outputs": [
    {
     "name": "stdout",
     "output_type": "stream",
     "text": [
      "('cherry', 'orange', 'kiwi')\n"
     ]
    }
   ],
   "source": [
    "thistuple = (\"apple\", \"banana\", \"cherry\", \"orange\", \"kiwi\", \"melon\", \"mango\")\n",
    "print(thistuple[2:5])"
   ]
  },
  {
   "cell_type": "markdown",
   "id": "48215cad-b999-490d-b443-584d42807c00",
   "metadata": {},
   "source": [
    "EX 11"
   ]
  },
  {
   "cell_type": "code",
   "execution_count": 21,
   "id": "90715029-4d86-46fa-a277-8949620ad952",
   "metadata": {},
   "outputs": [
    {
     "name": "stdout",
     "output_type": "stream",
     "text": [
      "('apple', 'banana', 'cherry', 'orange')\n"
     ]
    }
   ],
   "source": [
    "thistuple = (\"apple\", \"banana\", \"cherry\", \"orange\", \"kiwi\", \"melon\", \"mango\")\n",
    "print(thistuple[:4])"
   ]
  },
  {
   "cell_type": "markdown",
   "id": "ca521070-6c8b-4a87-a08c-ea388334d151",
   "metadata": {},
   "source": [
    "EX 12"
   ]
  },
  {
   "cell_type": "code",
   "execution_count": 23,
   "id": "eca32def-6ba8-4661-aa4d-a21441e66116",
   "metadata": {},
   "outputs": [
    {
     "name": "stdout",
     "output_type": "stream",
     "text": [
      "('cherry', 'orange', 'kiwi', 'melon', 'mango')\n"
     ]
    }
   ],
   "source": [
    "thistuple = (\"apple\", \"banana\", \"cherry\", \"orange\", \"kiwi\", \"melon\", \"mango\")\n",
    "print(thistuple[2:])"
   ]
  },
  {
   "cell_type": "markdown",
   "id": "64c84806-964b-4e86-9d9d-a4860970b2aa",
   "metadata": {},
   "source": [
    "EX 13"
   ]
  },
  {
   "cell_type": "code",
   "execution_count": 25,
   "id": "eec8bed2-742e-426f-b54b-c894c970690d",
   "metadata": {},
   "outputs": [
    {
     "name": "stdout",
     "output_type": "stream",
     "text": [
      "('orange', 'kiwi', 'melon')\n"
     ]
    }
   ],
   "source": [
    "thistuple = (\"apple\", \"banana\", \"cherry\", \"orange\", \"kiwi\", \"melon\", \"mango\")\n",
    "print(thistuple[-4:-1])"
   ]
  },
  {
   "cell_type": "markdown",
   "id": "d7234080-f02b-453b-b214-6ee6470e4079",
   "metadata": {},
   "source": [
    "EX 14"
   ]
  },
  {
   "cell_type": "code",
   "execution_count": 27,
   "id": "718cde46-69e0-4b5a-8895-7e03e41583c5",
   "metadata": {},
   "outputs": [
    {
     "name": "stdout",
     "output_type": "stream",
     "text": [
      "Yes, 'apple' is in the fruits tuple\n"
     ]
    }
   ],
   "source": [
    "thistuple = (\"apple\", \"banana\", \"cherry\")\n",
    "if \"apple\" in thistuple:\n",
    "  print(\"Yes, 'apple' is in the fruits tuple\")"
   ]
  },
  {
   "cell_type": "markdown",
   "id": "8d5e32ab-0dca-4816-9fbf-5ecef1b4cfda",
   "metadata": {},
   "source": [
    "EX 15"
   ]
  },
  {
   "cell_type": "code",
   "execution_count": 29,
   "id": "af1bda0f-8860-49d4-83a7-c75a7a45bae3",
   "metadata": {},
   "outputs": [
    {
     "name": "stdout",
     "output_type": "stream",
     "text": [
      "('apple', 'kiwi', 'cherry')\n"
     ]
    }
   ],
   "source": [
    "x = (\"apple\", \"banana\", \"cherry\")\n",
    "y = list(x)\n",
    "y[1] = \"kiwi\"\n",
    "x = tuple(y)\n",
    "\n",
    "print(x)"
   ]
  },
  {
   "cell_type": "markdown",
   "id": "46ba57cb-b12b-4355-8156-0e47659379c8",
   "metadata": {},
   "source": [
    "EX 16"
   ]
  },
  {
   "cell_type": "code",
   "execution_count": 31,
   "id": "741486a4-0f12-4cd3-8a6d-bb158bdc02dd",
   "metadata": {},
   "outputs": [],
   "source": [
    "thistuple = (\"apple\", \"banana\", \"cherry\")\n",
    "y = list(thistuple)\n",
    "y.append(\"orange\")\n",
    "thistuple = tuple(y)"
   ]
  },
  {
   "cell_type": "markdown",
   "id": "de50697c-97c9-4b1c-a29d-3b64d5a67ed7",
   "metadata": {},
   "source": [
    "EX 17"
   ]
  },
  {
   "cell_type": "code",
   "execution_count": 33,
   "id": "acfe9d88-37f4-486c-9e49-bc1e39a31da3",
   "metadata": {},
   "outputs": [
    {
     "name": "stdout",
     "output_type": "stream",
     "text": [
      "('apple', 'banana', 'cherry', 'orange')\n"
     ]
    }
   ],
   "source": [
    "thistuple = (\"apple\", \"banana\", \"cherry\")\n",
    "y = (\"orange\",)\n",
    "thistuple += y\n",
    "\n",
    "print(thistuple)"
   ]
  },
  {
   "cell_type": "markdown",
   "id": "be5727df-bb03-4b86-9365-58bf5b1dc79a",
   "metadata": {},
   "source": [
    "EX 18"
   ]
  },
  {
   "cell_type": "code",
   "execution_count": 35,
   "id": "ec40dc70-8f54-4d65-9ad0-bbc488dd30d8",
   "metadata": {},
   "outputs": [],
   "source": [
    "thistuple = (\"apple\", \"banana\", \"cherry\")\n",
    "y = list(thistuple)\n",
    "y.remove(\"apple\")\n",
    "thistuple = tuple(y)"
   ]
  },
  {
   "cell_type": "markdown",
   "id": "331de7a9-4b7a-4d92-9ca5-b3152791f5b9",
   "metadata": {},
   "source": [
    "EX 19"
   ]
  },
  {
   "cell_type": "code",
   "execution_count": 37,
   "id": "adfabb61-d70a-415c-b37f-71683326c5b6",
   "metadata": {},
   "outputs": [
    {
     "ename": "NameError",
     "evalue": "name 'thistuple' is not defined",
     "output_type": "error",
     "traceback": [
      "\u001b[1;31m---------------------------------------------------------------------------\u001b[0m",
      "\u001b[1;31mNameError\u001b[0m                                 Traceback (most recent call last)",
      "Cell \u001b[1;32mIn[37], line 3\u001b[0m\n\u001b[0;32m      1\u001b[0m thistuple \u001b[38;5;241m=\u001b[39m (\u001b[38;5;124m\"\u001b[39m\u001b[38;5;124mapple\u001b[39m\u001b[38;5;124m\"\u001b[39m, \u001b[38;5;124m\"\u001b[39m\u001b[38;5;124mbanana\u001b[39m\u001b[38;5;124m\"\u001b[39m, \u001b[38;5;124m\"\u001b[39m\u001b[38;5;124mcherry\u001b[39m\u001b[38;5;124m\"\u001b[39m)\n\u001b[0;32m      2\u001b[0m \u001b[38;5;28;01mdel\u001b[39;00m thistuple\n\u001b[1;32m----> 3\u001b[0m \u001b[38;5;28mprint\u001b[39m(thistuple)\n",
      "\u001b[1;31mNameError\u001b[0m: name 'thistuple' is not defined"
     ]
    }
   ],
   "source": [
    "thistuple = (\"apple\", \"banana\", \"cherry\")\n",
    "del thistuple\n",
    "print(thistuple) #this will raise an error because the tuple no longer exists"
   ]
  },
  {
   "cell_type": "markdown",
   "id": "c48952ed-c34e-4c25-a8b0-25e75b3915f5",
   "metadata": {},
   "source": [
    "EX 20"
   ]
  },
  {
   "cell_type": "code",
   "execution_count": 39,
   "id": "495cacb9-08d6-4af8-897c-19ee86261c7c",
   "metadata": {},
   "outputs": [
    {
     "name": "stdout",
     "output_type": "stream",
     "text": [
      "apple\n",
      "banana\n",
      "cherry\n"
     ]
    }
   ],
   "source": [
    "fruits = (\"apple\", \"banana\", \"cherry\")\n",
    "\n",
    "(green, yellow, red) = fruits\n",
    "\n",
    "print(green)\n",
    "print(yellow)\n",
    "print(red)"
   ]
  },
  {
   "cell_type": "markdown",
   "id": "7ff7ca19-c7ac-41c3-a610-7d8181047713",
   "metadata": {},
   "source": [
    "EX 21"
   ]
  },
  {
   "cell_type": "code",
   "execution_count": 41,
   "id": "b3d59f81-f221-4979-97a0-4b5bfe81d4e0",
   "metadata": {},
   "outputs": [
    {
     "name": "stdout",
     "output_type": "stream",
     "text": [
      "apple\n",
      "banana\n",
      "['cherry', 'strawberry', 'raspberry']\n"
     ]
    }
   ],
   "source": [
    "fruits = (\"apple\", \"banana\", \"cherry\", \"strawberry\", \"raspberry\")\n",
    "\n",
    "(green, yellow, *red) = fruits\n",
    "\n",
    "print(green)\n",
    "print(yellow)\n",
    "print(red)"
   ]
  },
  {
   "cell_type": "markdown",
   "id": "053b786a-0829-4331-899a-7c3c9ded1719",
   "metadata": {},
   "source": [
    "EX 22"
   ]
  },
  {
   "cell_type": "code",
   "execution_count": 43,
   "id": "0925bd7d-2eb9-48f6-9d5e-6921ff6aff21",
   "metadata": {},
   "outputs": [
    {
     "name": "stdout",
     "output_type": "stream",
     "text": [
      "apple\n",
      "['mango', 'papaya', 'pineapple']\n",
      "cherry\n"
     ]
    }
   ],
   "source": [
    "fruits = (\"apple\", \"mango\", \"papaya\", \"pineapple\", \"cherry\")\n",
    "\n",
    "(green, *tropic, red) = fruits\n",
    "\n",
    "print(green)\n",
    "print(tropic)\n",
    "print(red)"
   ]
  },
  {
   "cell_type": "markdown",
   "id": "3e584524-abc5-49d8-9f20-1842a326007d",
   "metadata": {},
   "source": [
    "EX 23"
   ]
  },
  {
   "cell_type": "code",
   "execution_count": 45,
   "id": "f694dc73-03c4-43df-8bd2-a7e3cfe56785",
   "metadata": {},
   "outputs": [
    {
     "name": "stdout",
     "output_type": "stream",
     "text": [
      "apple\n",
      "banana\n",
      "cherry\n"
     ]
    }
   ],
   "source": [
    "thistuple = (\"apple\", \"banana\", \"cherry\")\n",
    "for x in thistuple:\n",
    "  print(x)"
   ]
  },
  {
   "cell_type": "markdown",
   "id": "f33b2932-de78-4e78-9dab-6e897a7bbdf4",
   "metadata": {},
   "source": [
    "EX 24"
   ]
  },
  {
   "cell_type": "code",
   "execution_count": 47,
   "id": "6dc09294-4e04-4411-8163-94b0adfddc18",
   "metadata": {},
   "outputs": [
    {
     "name": "stdout",
     "output_type": "stream",
     "text": [
      "apple\n",
      "banana\n",
      "cherry\n"
     ]
    }
   ],
   "source": [
    "thistuple = (\"apple\", \"banana\", \"cherry\")\n",
    "for i in range(len(thistuple)):\n",
    "  print(thistuple[i])"
   ]
  },
  {
   "cell_type": "markdown",
   "id": "951657d3-63c9-4b54-acfc-2bbb9d6e933c",
   "metadata": {},
   "source": [
    "EX 25"
   ]
  },
  {
   "cell_type": "code",
   "execution_count": 49,
   "id": "92e7f9bd-ea2e-4ffe-b2e7-8a41e9f71323",
   "metadata": {},
   "outputs": [
    {
     "name": "stdout",
     "output_type": "stream",
     "text": [
      "apple\n",
      "banana\n",
      "cherry\n"
     ]
    }
   ],
   "source": [
    "thistuple = (\"apple\", \"banana\", \"cherry\")\n",
    "i = 0\n",
    "while i < len(thistuple):\n",
    "  print(thistuple[i])\n",
    "  i = i + 1"
   ]
  },
  {
   "cell_type": "markdown",
   "id": "b752cdfd-2bec-4ed5-a5bf-c96e4bb51bdf",
   "metadata": {},
   "source": [
    "EX 26"
   ]
  },
  {
   "cell_type": "code",
   "execution_count": 51,
   "id": "673bf32d-d0e7-479f-b510-fce8addd8ea3",
   "metadata": {},
   "outputs": [
    {
     "name": "stdout",
     "output_type": "stream",
     "text": [
      "('a', 'b', 'c', 1, 2, 3)\n"
     ]
    }
   ],
   "source": [
    "tuple1 = (\"a\", \"b\" , \"c\")\n",
    "tuple2 = (1, 2, 3)\n",
    "\n",
    "tuple3 = tuple1 + tuple2\n",
    "print(tuple3)"
   ]
  },
  {
   "cell_type": "markdown",
   "id": "0e62a14d-6435-4d9b-8238-9c4f267424f1",
   "metadata": {},
   "source": [
    "EX 27"
   ]
  },
  {
   "cell_type": "code",
   "execution_count": 53,
   "id": "55feb44b-3934-4f92-860e-dbb85def520e",
   "metadata": {},
   "outputs": [
    {
     "name": "stdout",
     "output_type": "stream",
     "text": [
      "('apple', 'banana', 'cherry', 'apple', 'banana', 'cherry')\n"
     ]
    }
   ],
   "source": [
    "fruits = (\"apple\", \"banana\", \"cherry\")\n",
    "mytuple = fruits * 2\n",
    "\n",
    "print(mytuple)"
   ]
  },
  {
   "cell_type": "code",
   "execution_count": null,
   "id": "bbc17772-f804-4e24-ada9-5aeb81bf234d",
   "metadata": {},
   "outputs": [],
   "source": []
  }
 ],
 "metadata": {
  "kernelspec": {
   "display_name": "Python [conda env:base] *",
   "language": "python",
   "name": "conda-base-py"
  },
  "language_info": {
   "codemirror_mode": {
    "name": "ipython",
    "version": 3
   },
   "file_extension": ".py",
   "mimetype": "text/x-python",
   "name": "python",
   "nbconvert_exporter": "python",
   "pygments_lexer": "ipython3",
   "version": "3.12.7"
  }
 },
 "nbformat": 4,
 "nbformat_minor": 5
}
