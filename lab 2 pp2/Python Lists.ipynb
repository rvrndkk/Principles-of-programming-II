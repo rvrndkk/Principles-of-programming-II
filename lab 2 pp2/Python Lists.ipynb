{
 "cells": [
  {
   "cell_type": "markdown",
   "id": "00bf976d-b4cf-4404-817c-d1d58fd078da",
   "metadata": {},
   "source": [
    "CH \"Python Lists\""
   ]
  },
  {
   "cell_type": "markdown",
   "id": "577587e7-817a-4882-a262-3c294bc21d02",
   "metadata": {},
   "source": [
    "EX 1"
   ]
  },
  {
   "cell_type": "code",
   "execution_count": 1,
   "id": "b5390366-ce55-4395-ad06-fb8180f17cca",
   "metadata": {},
   "outputs": [
    {
     "name": "stdout",
     "output_type": "stream",
     "text": [
      "['apple', 'banana', 'cherry']\n"
     ]
    }
   ],
   "source": [
    "thislist = [\"apple\", \"banana\", \"cherry\"]\n",
    "print(thislist)"
   ]
  },
  {
   "cell_type": "markdown",
   "id": "ddfe9031-e64a-48ec-adba-edd34b2db1ad",
   "metadata": {},
   "source": [
    "EX 2"
   ]
  },
  {
   "cell_type": "code",
   "execution_count": 3,
   "id": "2cac57d9-d6e4-4027-b8ce-b4970c0da84c",
   "metadata": {},
   "outputs": [
    {
     "name": "stdout",
     "output_type": "stream",
     "text": [
      "3\n"
     ]
    }
   ],
   "source": [
    "thislist = [\"apple\", \"banana\", \"cherry\"]\n",
    "print(len(thislist))"
   ]
  },
  {
   "cell_type": "markdown",
   "id": "8269bbd0-a94d-4bf4-b118-cd5d93e9ed11",
   "metadata": {},
   "source": [
    "EX 3"
   ]
  },
  {
   "cell_type": "code",
   "execution_count": 5,
   "id": "9b3c6354-ae3d-4218-98bf-d1d1b3b2ae0b",
   "metadata": {},
   "outputs": [
    {
     "name": "stdout",
     "output_type": "stream",
     "text": [
      "<class 'list'>\n"
     ]
    }
   ],
   "source": [
    "mylist = [\"apple\", \"banana\", \"cherry\"]\n",
    "print(type(mylist))"
   ]
  },
  {
   "cell_type": "markdown",
   "id": "f0e24e24-bf55-444f-bd93-9ccd5bb251c9",
   "metadata": {},
   "source": [
    "EX 4"
   ]
  },
  {
   "cell_type": "code",
   "execution_count": 9,
   "id": "247f66b3-3bde-49f1-b2b5-10e8cdfffd30",
   "metadata": {},
   "outputs": [
    {
     "name": "stdout",
     "output_type": "stream",
     "text": [
      "['apple', 'banana', 'cherry']\n"
     ]
    }
   ],
   "source": [
    "thislist = list((\"apple\", \"banana\", \"cherry\"))\n",
    "print(thislist)"
   ]
  },
  {
   "cell_type": "markdown",
   "id": "e145a992-e37d-43c8-9c7d-d300e7d62163",
   "metadata": {},
   "source": [
    "EX 5"
   ]
  },
  {
   "cell_type": "code",
   "execution_count": 11,
   "id": "3d500b19-61fe-4225-bde1-28bfa5b7b334",
   "metadata": {},
   "outputs": [],
   "source": [
    "list1 = [\"abc\", 34, True, 40, \"male\"]"
   ]
  },
  {
   "cell_type": "markdown",
   "id": "c752f365-a790-4dfe-9fd6-2eb24fb22fcd",
   "metadata": {},
   "source": [
    "EX 6"
   ]
  },
  {
   "cell_type": "code",
   "execution_count": 13,
   "id": "beaf716d-9041-4126-8f3d-597fc6f4ae53",
   "metadata": {},
   "outputs": [
    {
     "name": "stdout",
     "output_type": "stream",
     "text": [
      "banana\n"
     ]
    }
   ],
   "source": [
    "thislist = [\"apple\", \"banana\", \"cherry\"]\n",
    "print(thislist[1])"
   ]
  },
  {
   "cell_type": "markdown",
   "id": "ed1873fd-a975-4846-9c72-611c8b8495c7",
   "metadata": {},
   "source": [
    "EX 7"
   ]
  },
  {
   "cell_type": "code",
   "execution_count": 15,
   "id": "baab1489-7677-42a8-bf78-6594e92fffed",
   "metadata": {},
   "outputs": [
    {
     "name": "stdout",
     "output_type": "stream",
     "text": [
      "cherry\n"
     ]
    }
   ],
   "source": [
    "thislist = [\"apple\", \"banana\", \"cherry\"]\n",
    "print(thislist[-1])"
   ]
  },
  {
   "cell_type": "markdown",
   "id": "31a7a567-e0fe-415f-8671-f8e252ebb67c",
   "metadata": {},
   "source": [
    "EX 8"
   ]
  },
  {
   "cell_type": "code",
   "execution_count": 17,
   "id": "ed60aa4a-3f4d-4648-ac55-922325cde850",
   "metadata": {},
   "outputs": [
    {
     "name": "stdout",
     "output_type": "stream",
     "text": [
      "['cherry', 'orange', 'kiwi']\n"
     ]
    }
   ],
   "source": [
    "thislist = [\"apple\", \"banana\", \"cherry\", \"orange\", \"kiwi\", \"melon\", \"mango\"]\n",
    "print(thislist[2:5])"
   ]
  },
  {
   "cell_type": "markdown",
   "id": "a46458b3-b5e0-4b80-915d-40aa91636ae7",
   "metadata": {},
   "source": [
    "EX 9"
   ]
  },
  {
   "cell_type": "code",
   "execution_count": 19,
   "id": "fae7f07d-5036-4e7b-8d55-7295dca3faa2",
   "metadata": {},
   "outputs": [
    {
     "name": "stdout",
     "output_type": "stream",
     "text": [
      "['apple', 'banana', 'cherry', 'orange']\n"
     ]
    }
   ],
   "source": [
    "thislist = [\"apple\", \"banana\", \"cherry\", \"orange\", \"kiwi\", \"melon\", \"mango\"]\n",
    "print(thislist[:4])"
   ]
  },
  {
   "cell_type": "markdown",
   "id": "aad06917-c4f2-4eaf-a646-bda1a484bfaa",
   "metadata": {},
   "source": [
    "EX 10"
   ]
  },
  {
   "cell_type": "code",
   "execution_count": 21,
   "id": "53874043-1da2-40e1-b3f8-d55ca61f840b",
   "metadata": {},
   "outputs": [
    {
     "name": "stdout",
     "output_type": "stream",
     "text": [
      "['cherry', 'orange', 'kiwi', 'melon', 'mango']\n"
     ]
    }
   ],
   "source": [
    "thislist = [\"apple\", \"banana\", \"cherry\", \"orange\", \"kiwi\", \"melon\", \"mango\"]\n",
    "print(thislist[2:])"
   ]
  },
  {
   "cell_type": "markdown",
   "id": "88e07504-03c6-41a5-be64-0676b06b31ac",
   "metadata": {},
   "source": [
    "EX 11"
   ]
  },
  {
   "cell_type": "code",
   "execution_count": 23,
   "id": "e1c8756a-229f-4e36-9363-1ed3cd926b11",
   "metadata": {},
   "outputs": [
    {
     "name": "stdout",
     "output_type": "stream",
     "text": [
      "['orange', 'kiwi', 'melon']\n"
     ]
    }
   ],
   "source": [
    "thislist = [\"apple\", \"banana\", \"cherry\", \"orange\", \"kiwi\", \"melon\", \"mango\"]\n",
    "print(thislist[-4:-1])"
   ]
  },
  {
   "cell_type": "markdown",
   "id": "8741c1ab-d3d4-4705-82c9-3a46c3d8f641",
   "metadata": {},
   "source": [
    "EX 12"
   ]
  },
  {
   "cell_type": "code",
   "execution_count": 25,
   "id": "246ca1f0-54c1-419c-88c8-33c75ec76179",
   "metadata": {},
   "outputs": [
    {
     "name": "stdout",
     "output_type": "stream",
     "text": [
      "Yes, 'apple' is in the fruits list\n"
     ]
    }
   ],
   "source": [
    "thislist = [\"apple\", \"banana\", \"cherry\"]\n",
    "if \"apple\" in thislist:\n",
    "  print(\"Yes, 'apple' is in the fruits list\")"
   ]
  },
  {
   "cell_type": "markdown",
   "id": "498811a5-ceca-4a31-9b52-457346278f2a",
   "metadata": {},
   "source": [
    "EX 13"
   ]
  },
  {
   "cell_type": "code",
   "execution_count": 27,
   "id": "1c23e4f2-cd7a-418b-8788-22a191df2d97",
   "metadata": {},
   "outputs": [
    {
     "name": "stdout",
     "output_type": "stream",
     "text": [
      "['apple', 'blackcurrant', 'cherry']\n"
     ]
    }
   ],
   "source": [
    "thislist = [\"apple\", \"banana\", \"cherry\"]\n",
    "thislist[1] = \"blackcurrant\"\n",
    "print(thislist)"
   ]
  },
  {
   "cell_type": "markdown",
   "id": "174b8f0a-e80d-4fe7-b91a-d0e66df1e789",
   "metadata": {},
   "source": [
    "EX 14"
   ]
  },
  {
   "cell_type": "code",
   "execution_count": 29,
   "id": "6ea5ec8a-ba19-43e0-9dba-8e58b6e7b16d",
   "metadata": {},
   "outputs": [
    {
     "name": "stdout",
     "output_type": "stream",
     "text": [
      "['apple', 'blackcurrant', 'watermelon', 'orange', 'kiwi', 'mango']\n"
     ]
    }
   ],
   "source": [
    "thislist = [\"apple\", \"banana\", \"cherry\", \"orange\", \"kiwi\", \"mango\"]\n",
    "thislist[1:3] = [\"blackcurrant\", \"watermelon\"]\n",
    "print(thislist)"
   ]
  },
  {
   "cell_type": "markdown",
   "id": "363dd16f-56a3-4f81-b1ff-d2217c261347",
   "metadata": {},
   "source": [
    "EX 15"
   ]
  },
  {
   "cell_type": "code",
   "execution_count": 31,
   "id": "cd098ac4-e610-40b1-8614-0364df1261d9",
   "metadata": {},
   "outputs": [
    {
     "name": "stdout",
     "output_type": "stream",
     "text": [
      "['apple', 'blackcurrant', 'watermelon', 'cherry']\n"
     ]
    }
   ],
   "source": [
    "thislist = [\"apple\", \"banana\", \"cherry\"]\n",
    "thislist[1:2] = [\"blackcurrant\", \"watermelon\"]\n",
    "print(thislist)"
   ]
  },
  {
   "cell_type": "markdown",
   "id": "f8ac73b7-c018-41e1-8098-c351decd3eeb",
   "metadata": {},
   "source": [
    "EX 16"
   ]
  },
  {
   "cell_type": "code",
   "execution_count": 33,
   "id": "e5cc1647-1868-4509-9a5b-a69a84e5bcd3",
   "metadata": {},
   "outputs": [
    {
     "name": "stdout",
     "output_type": "stream",
     "text": [
      "['apple', 'watermelon']\n"
     ]
    }
   ],
   "source": [
    "thislist = [\"apple\", \"banana\", \"cherry\"]\n",
    "thislist[1:3] = [\"watermelon\"]\n",
    "print(thislist)"
   ]
  },
  {
   "cell_type": "markdown",
   "id": "f4f4bfa8-f45e-4ca1-b566-864d37094472",
   "metadata": {},
   "source": [
    "EX 17"
   ]
  },
  {
   "cell_type": "code",
   "execution_count": 35,
   "id": "708e923a-ee8b-452b-8f81-1c9cb7074d21",
   "metadata": {},
   "outputs": [
    {
     "name": "stdout",
     "output_type": "stream",
     "text": [
      "['apple', 'banana', 'watermelon', 'cherry']\n"
     ]
    }
   ],
   "source": [
    "thislist = [\"apple\", \"banana\", \"cherry\"]\n",
    "thislist.insert(2, \"watermelon\")\n",
    "print(thislist)"
   ]
  },
  {
   "cell_type": "markdown",
   "id": "dc55fc00-ef0b-4083-b788-5738cc7d9f50",
   "metadata": {},
   "source": [
    "EX 18"
   ]
  },
  {
   "cell_type": "code",
   "execution_count": 37,
   "id": "ce915660-3c85-4b51-bca6-a516ccb45719",
   "metadata": {},
   "outputs": [
    {
     "name": "stdout",
     "output_type": "stream",
     "text": [
      "['apple', 'banana', 'cherry', 'orange']\n"
     ]
    }
   ],
   "source": [
    "thislist = [\"apple\", \"banana\", \"cherry\"]\n",
    "thislist.append(\"orange\")\n",
    "print(thislist)"
   ]
  },
  {
   "cell_type": "markdown",
   "id": "75f93a79-1237-4b95-a459-c19f1a21a6bc",
   "metadata": {},
   "source": [
    "EX 19"
   ]
  },
  {
   "cell_type": "code",
   "execution_count": 39,
   "id": "b43abe3d-cfb0-4610-b71f-e642c57bbb57",
   "metadata": {},
   "outputs": [
    {
     "name": "stdout",
     "output_type": "stream",
     "text": [
      "['apple', 'orange', 'banana', 'cherry']\n"
     ]
    }
   ],
   "source": [
    "thislist = [\"apple\", \"banana\", \"cherry\"]\n",
    "thislist.insert(1, \"orange\")\n",
    "print(thislist)"
   ]
  },
  {
   "cell_type": "markdown",
   "id": "bd8b9156-69c6-4721-a3f1-3275447afc9d",
   "metadata": {},
   "source": [
    "EX 20"
   ]
  },
  {
   "cell_type": "code",
   "execution_count": 41,
   "id": "0517ffaf-f1b3-4492-8c63-431abedd5ba3",
   "metadata": {},
   "outputs": [
    {
     "name": "stdout",
     "output_type": "stream",
     "text": [
      "['apple', 'banana', 'cherry', 'mango', 'pineapple', 'papaya']\n"
     ]
    }
   ],
   "source": [
    "thislist = [\"apple\", \"banana\", \"cherry\"]\n",
    "tropical = [\"mango\", \"pineapple\", \"papaya\"]\n",
    "thislist.extend(tropical)\n",
    "print(thislist)"
   ]
  },
  {
   "cell_type": "markdown",
   "id": "47654cc4-f2af-4dec-b330-8867224911dc",
   "metadata": {},
   "source": [
    "EX 21"
   ]
  },
  {
   "cell_type": "code",
   "execution_count": 43,
   "id": "a9bf60ba-8aff-4cee-82a4-a15a4b58c6a2",
   "metadata": {},
   "outputs": [
    {
     "name": "stdout",
     "output_type": "stream",
     "text": [
      "['apple', 'banana', 'cherry', 'kiwi', 'orange']\n"
     ]
    }
   ],
   "source": [
    "thislist = [\"apple\", \"banana\", \"cherry\"]\n",
    "thistuple = (\"kiwi\", \"orange\")\n",
    "thislist.extend(thistuple)\n",
    "print(thislist)"
   ]
  },
  {
   "cell_type": "markdown",
   "id": "2023fdea-c56e-444b-89aa-c11d8da7d69a",
   "metadata": {},
   "source": [
    "EX 22"
   ]
  },
  {
   "cell_type": "code",
   "execution_count": 45,
   "id": "f79d61f5-a100-4546-b0c2-52b66005670d",
   "metadata": {},
   "outputs": [
    {
     "name": "stdout",
     "output_type": "stream",
     "text": [
      "['apple', 'cherry']\n"
     ]
    }
   ],
   "source": [
    "thislist = [\"apple\", \"banana\", \"cherry\"]\n",
    "thislist.remove(\"banana\")\n",
    "print(thislist)"
   ]
  },
  {
   "cell_type": "markdown",
   "id": "da77f30a-3ff0-438d-a2a2-f10bbdf4fe7f",
   "metadata": {},
   "source": [
    "EX 23"
   ]
  },
  {
   "cell_type": "code",
   "execution_count": 47,
   "id": "c40135eb-37a0-4af8-bf44-ef842d0d5def",
   "metadata": {},
   "outputs": [
    {
     "name": "stdout",
     "output_type": "stream",
     "text": [
      "['apple', 'cherry', 'banana', 'kiwi']\n"
     ]
    }
   ],
   "source": [
    "thislist = [\"apple\", \"banana\", \"cherry\", \"banana\", \"kiwi\"]\n",
    "thislist.remove(\"banana\")\n",
    "print(thislist)"
   ]
  },
  {
   "cell_type": "markdown",
   "id": "233e6290-998b-4a90-8c5f-8576adf9fc84",
   "metadata": {},
   "source": [
    "EX 24"
   ]
  },
  {
   "cell_type": "code",
   "execution_count": 49,
   "id": "afbb5f2f-7d8a-4333-ae6d-f1d9d1836c9c",
   "metadata": {},
   "outputs": [
    {
     "name": "stdout",
     "output_type": "stream",
     "text": [
      "['apple', 'cherry']\n"
     ]
    }
   ],
   "source": [
    "thislist = [\"apple\", \"banana\", \"cherry\"]\n",
    "thislist.pop(1)\n",
    "print(thislist)"
   ]
  },
  {
   "cell_type": "markdown",
   "id": "2ea8127f-1da5-412a-b5d7-a0dc14361a08",
   "metadata": {},
   "source": [
    "EX 25"
   ]
  },
  {
   "cell_type": "code",
   "execution_count": 55,
   "id": "9119b99b-b497-4303-b379-0daf356dfb5a",
   "metadata": {},
   "outputs": [
    {
     "name": "stdout",
     "output_type": "stream",
     "text": [
      "['apple', 'banana']\n"
     ]
    }
   ],
   "source": [
    "thislist = [\"apple\", \"banana\", \"cherry\"]\n",
    "thislist.pop()\n",
    "print(thislist)\n"
   ]
  },
  {
   "cell_type": "markdown",
   "id": "0af066c5-a961-4315-9ce4-8bf4a81baf91",
   "metadata": {},
   "source": [
    "EX 26"
   ]
  },
  {
   "cell_type": "code",
   "execution_count": 53,
   "id": "aa7eb7f4-4664-490a-abfc-fbf15657f7b8",
   "metadata": {},
   "outputs": [
    {
     "name": "stdout",
     "output_type": "stream",
     "text": [
      "['banana', 'cherry']\n"
     ]
    }
   ],
   "source": [
    "thislist = [\"apple\", \"banana\", \"cherry\"]\n",
    "del thislist[0]\n",
    "print(thislist)"
   ]
  },
  {
   "cell_type": "markdown",
   "id": "3415a128-4292-415e-8871-ae60b80853dc",
   "metadata": {},
   "source": [
    "EX 27"
   ]
  },
  {
   "cell_type": "code",
   "execution_count": 57,
   "id": "f608a4f0-57b1-423b-9000-752197fe8a00",
   "metadata": {},
   "outputs": [],
   "source": [
    "thislist = [\"apple\", \"banana\", \"cherry\"]\n",
    "del thislist"
   ]
  },
  {
   "cell_type": "markdown",
   "id": "0c8e1999-915c-44ea-9beb-3b139d936d1d",
   "metadata": {},
   "source": [
    "EX 28"
   ]
  },
  {
   "cell_type": "code",
   "execution_count": 59,
   "id": "78f315ef-69e9-47c4-83f6-49b507e3efeb",
   "metadata": {},
   "outputs": [
    {
     "name": "stdout",
     "output_type": "stream",
     "text": [
      "[]\n"
     ]
    }
   ],
   "source": [
    "thislist = [\"apple\", \"banana\", \"cherry\"]\n",
    "thislist.clear()\n",
    "print(thislist)"
   ]
  },
  {
   "cell_type": "markdown",
   "id": "43f4d554-c626-4a03-b72e-5d528bbb676a",
   "metadata": {},
   "source": [
    "EX 29"
   ]
  },
  {
   "cell_type": "code",
   "execution_count": 61,
   "id": "6b3994d7-aa91-4bac-b1c7-23a1c127de2a",
   "metadata": {},
   "outputs": [
    {
     "name": "stdout",
     "output_type": "stream",
     "text": [
      "apple\n",
      "banana\n",
      "cherry\n"
     ]
    }
   ],
   "source": [
    "thislist = [\"apple\", \"banana\", \"cherry\"]\n",
    "for x in thislist:\n",
    "  print(x)"
   ]
  },
  {
   "cell_type": "markdown",
   "id": "cdfec0f9-3107-4e4a-b787-f6d594e4ada3",
   "metadata": {},
   "source": [
    "EX 30"
   ]
  },
  {
   "cell_type": "code",
   "execution_count": 63,
   "id": "b2bf0229-ca67-4468-80f9-5cb52338ea62",
   "metadata": {},
   "outputs": [
    {
     "name": "stdout",
     "output_type": "stream",
     "text": [
      "apple\n",
      "banana\n",
      "cherry\n"
     ]
    }
   ],
   "source": [
    "thislist = [\"apple\", \"banana\", \"cherry\"]\n",
    "for i in range(len(thislist)):\n",
    "  print(thislist[i])"
   ]
  },
  {
   "cell_type": "markdown",
   "id": "2c78c040-2c4f-4588-8fa2-28d9e9d5f7f0",
   "metadata": {},
   "source": [
    "EX 31"
   ]
  },
  {
   "cell_type": "code",
   "execution_count": 65,
   "id": "42ac2557-5bb3-4f9d-9076-0b3f7c0343fb",
   "metadata": {},
   "outputs": [
    {
     "name": "stdout",
     "output_type": "stream",
     "text": [
      "apple\n",
      "banana\n",
      "cherry\n"
     ]
    }
   ],
   "source": [
    "thislist = [\"apple\", \"banana\", \"cherry\"]\n",
    "i = 0\n",
    "while i < len(thislist):\n",
    "  print(thislist[i])\n",
    "  i = i + 1"
   ]
  },
  {
   "cell_type": "markdown",
   "id": "4555a035-ecde-4ce8-afb7-24c8488cc687",
   "metadata": {},
   "source": [
    "EX 32"
   ]
  },
  {
   "cell_type": "code",
   "execution_count": 69,
   "id": "4703af36-f69a-4ad8-8059-e26d064a2868",
   "metadata": {},
   "outputs": [
    {
     "name": "stdout",
     "output_type": "stream",
     "text": [
      "apple\n",
      "banana\n",
      "cherry\n"
     ]
    },
    {
     "data": {
      "text/plain": [
       "[None, None, None]"
      ]
     },
     "execution_count": 69,
     "metadata": {},
     "output_type": "execute_result"
    }
   ],
   "source": [
    "thislist = [\"apple\", \"banana\", \"cherry\"]\n",
    "[print(x) for x in thislist]"
   ]
  },
  {
   "cell_type": "markdown",
   "id": "c999358d-3e5b-4b69-966f-eb4c7d531a11",
   "metadata": {},
   "source": [
    "EX 33"
   ]
  },
  {
   "cell_type": "code",
   "execution_count": 71,
   "id": "a9d70f4c-9bdf-4fd2-9e8b-55c7d4866ba9",
   "metadata": {},
   "outputs": [
    {
     "name": "stdout",
     "output_type": "stream",
     "text": [
      "['apple', 'banana', 'mango']\n"
     ]
    }
   ],
   "source": [
    "fruits = [\"apple\", \"banana\", \"cherry\", \"kiwi\", \"mango\"]\n",
    "newlist = []\n",
    "\n",
    "for x in fruits:\n",
    "  if \"a\" in x:\n",
    "    newlist.append(x)\n",
    "\n",
    "print(newlist)"
   ]
  },
  {
   "cell_type": "markdown",
   "id": "c8f1969f-14dd-4ae2-8f50-31097656aa23",
   "metadata": {},
   "source": [
    "EX 34"
   ]
  },
  {
   "cell_type": "code",
   "execution_count": 73,
   "id": "a0da02cb-196b-499e-ae96-1d01b40adbd6",
   "metadata": {},
   "outputs": [
    {
     "name": "stdout",
     "output_type": "stream",
     "text": [
      "['apple', 'banana', 'mango']\n"
     ]
    }
   ],
   "source": [
    "fruits = [\"apple\", \"banana\", \"cherry\", \"kiwi\", \"mango\"]\n",
    "\n",
    "newlist = [x for x in fruits if \"a\" in x]\n",
    "\n",
    "print(newlist)"
   ]
  },
  {
   "cell_type": "markdown",
   "id": "0263fe7a-ce15-4a20-8c21-843effc07834",
   "metadata": {},
   "source": [
    "EX 35"
   ]
  },
  {
   "cell_type": "code",
   "execution_count": 77,
   "id": "e3253c2b-d9b6-4711-9e26-0b644e68cca6",
   "metadata": {},
   "outputs": [],
   "source": [
    "newlist = [x for x in fruits if x != \"apple\"]"
   ]
  },
  {
   "cell_type": "markdown",
   "id": "1b7c1191-48b3-4f9d-821e-bbc5c8d66374",
   "metadata": {},
   "source": [
    "EX 36"
   ]
  },
  {
   "cell_type": "code",
   "execution_count": 79,
   "id": "e54d81c7-75e6-49ac-b2f9-f46aa709b5cc",
   "metadata": {},
   "outputs": [],
   "source": [
    "newlist = [x for x in fruits]"
   ]
  },
  {
   "cell_type": "markdown",
   "id": "a754d8a2-00f6-430d-bbc3-e73ea287df44",
   "metadata": {},
   "source": [
    "EX 37"
   ]
  },
  {
   "cell_type": "code",
   "execution_count": 81,
   "id": "9c12b59f-a9cb-435c-bb11-18f6011a0967",
   "metadata": {},
   "outputs": [],
   "source": [
    "newlist = [x for x in range(10)]"
   ]
  },
  {
   "cell_type": "markdown",
   "id": "05fad9f3-dc01-478b-a0e4-39986dfb5b05",
   "metadata": {},
   "source": [
    "EX 38"
   ]
  },
  {
   "cell_type": "code",
   "execution_count": 83,
   "id": "9693859f-7194-4fbf-9653-956d6853e248",
   "metadata": {},
   "outputs": [],
   "source": [
    "newlist = [x for x in range(10) if x < 5]"
   ]
  },
  {
   "cell_type": "markdown",
   "id": "0a33664a-6228-490d-a016-cd9ea400a57f",
   "metadata": {},
   "source": [
    "EX 39"
   ]
  },
  {
   "cell_type": "code",
   "execution_count": 85,
   "id": "cfbe0d10-b973-4b19-b5c5-a21d2395dd45",
   "metadata": {},
   "outputs": [],
   "source": [
    "newlist = [x.upper() for x in fruits]"
   ]
  },
  {
   "cell_type": "markdown",
   "id": "31ce89fa-6528-4b6e-986c-5a2622a5b890",
   "metadata": {},
   "source": [
    "EX 40"
   ]
  },
  {
   "cell_type": "code",
   "execution_count": 87,
   "id": "4119aac0-7893-4d95-8afe-c295c1a98642",
   "metadata": {},
   "outputs": [],
   "source": [
    "newlist = ['hello' for x in fruits]"
   ]
  },
  {
   "cell_type": "markdown",
   "id": "c62384d9-1e4b-46b9-bc0a-2e3c3f2c36e5",
   "metadata": {},
   "source": [
    "EX 41"
   ]
  },
  {
   "cell_type": "code",
   "execution_count": 89,
   "id": "5b7a16ab-dcb2-4964-9330-4b2b6afba629",
   "metadata": {},
   "outputs": [],
   "source": [
    "newlist = [x if x != \"banana\" else \"orange\" for x in fruits]"
   ]
  },
  {
   "cell_type": "markdown",
   "id": "97f8818c-cb37-4ade-80c5-bc58bbc2b6fd",
   "metadata": {},
   "source": [
    "EX 42"
   ]
  },
  {
   "cell_type": "code",
   "execution_count": 91,
   "id": "9f883f91-332e-41e0-9bde-6dc9b2eea95c",
   "metadata": {},
   "outputs": [
    {
     "name": "stdout",
     "output_type": "stream",
     "text": [
      "['banana', 'kiwi', 'mango', 'orange', 'pineapple']\n"
     ]
    }
   ],
   "source": [
    "thislist = [\"orange\", \"mango\", \"kiwi\", \"pineapple\", \"banana\"]\n",
    "thislist.sort()\n",
    "print(thislist)"
   ]
  },
  {
   "cell_type": "markdown",
   "id": "d1e8bbaa-5854-430c-bd7b-8338d7811adb",
   "metadata": {},
   "source": [
    "EX 43"
   ]
  },
  {
   "cell_type": "code",
   "execution_count": 93,
   "id": "f32ff694-1f02-49c3-aff7-ae23da006449",
   "metadata": {},
   "outputs": [
    {
     "name": "stdout",
     "output_type": "stream",
     "text": [
      "[23, 50, 65, 82, 100]\n"
     ]
    }
   ],
   "source": [
    "thislist = [100, 50, 65, 82, 23]\n",
    "thislist.sort()\n",
    "print(thislist)"
   ]
  },
  {
   "cell_type": "markdown",
   "id": "b0f67b7b-d0e1-4e2f-8e84-f49f4c872a63",
   "metadata": {},
   "source": [
    "EX 44"
   ]
  },
  {
   "cell_type": "code",
   "execution_count": 95,
   "id": "0edbfe9a-8368-424c-abd0-e652a6f0d114",
   "metadata": {},
   "outputs": [
    {
     "name": "stdout",
     "output_type": "stream",
     "text": [
      "['pineapple', 'orange', 'mango', 'kiwi', 'banana']\n"
     ]
    }
   ],
   "source": [
    "thislist = [\"orange\", \"mango\", \"kiwi\", \"pineapple\", \"banana\"]\n",
    "thislist.sort(reverse = True)\n",
    "print(thislist)"
   ]
  },
  {
   "cell_type": "markdown",
   "id": "485c52a7-fd1f-45cc-8a40-c293a71ef264",
   "metadata": {},
   "source": [
    "EX 45"
   ]
  },
  {
   "cell_type": "code",
   "execution_count": 97,
   "id": "19536ea5-1177-44cf-8de9-21d7268736c9",
   "metadata": {},
   "outputs": [
    {
     "name": "stdout",
     "output_type": "stream",
     "text": [
      "[100, 82, 65, 50, 23]\n"
     ]
    }
   ],
   "source": [
    "thislist = [100, 50, 65, 82, 23]\n",
    "thislist.sort(reverse = True)\n",
    "print(thislist)"
   ]
  },
  {
   "cell_type": "markdown",
   "id": "57d4d993-26a8-4d58-b14e-7188a1bd899e",
   "metadata": {},
   "source": [
    "EX 46"
   ]
  },
  {
   "cell_type": "code",
   "execution_count": 99,
   "id": "67dc0a9d-86c0-466a-aeaf-5a942b608786",
   "metadata": {},
   "outputs": [
    {
     "name": "stdout",
     "output_type": "stream",
     "text": [
      "[50, 65, 23, 82, 100]\n"
     ]
    }
   ],
   "source": [
    "def myfunc(n):\n",
    "  return abs(n - 50)\n",
    "\n",
    "thislist = [100, 50, 65, 82, 23]\n",
    "thislist.sort(key = myfunc)\n",
    "print(thislist)"
   ]
  },
  {
   "cell_type": "markdown",
   "id": "6bda9f42-bdd4-489b-a724-ab7a3dcbabc2",
   "metadata": {},
   "source": [
    "EX 46"
   ]
  },
  {
   "cell_type": "code",
   "execution_count": 101,
   "id": "6630e3c1-6dd6-46c4-8932-e901878d1fd0",
   "metadata": {},
   "outputs": [
    {
     "name": "stdout",
     "output_type": "stream",
     "text": [
      "['Kiwi', 'Orange', 'banana', 'cherry']\n"
     ]
    }
   ],
   "source": [
    "thislist = [\"banana\", \"Orange\", \"Kiwi\", \"cherry\"]\n",
    "thislist.sort()\n",
    "print(thislist)"
   ]
  },
  {
   "cell_type": "markdown",
   "id": "e82affb8-a0ad-4ae8-8bd0-dcaa0ca870b9",
   "metadata": {},
   "source": [
    "EX 47"
   ]
  },
  {
   "cell_type": "code",
   "execution_count": 103,
   "id": "27ff2bed-076d-4f61-815b-8010786b895f",
   "metadata": {},
   "outputs": [
    {
     "name": "stdout",
     "output_type": "stream",
     "text": [
      "['banana', 'cherry', 'Kiwi', 'Orange']\n"
     ]
    }
   ],
   "source": [
    "thislist = [\"banana\", \"Orange\", \"Kiwi\", \"cherry\"]\n",
    "thislist.sort(key = str.lower)\n",
    "print(thislist)"
   ]
  },
  {
   "cell_type": "markdown",
   "id": "4f89cc0b-669b-44fb-84d3-db63c233ebad",
   "metadata": {},
   "source": [
    "EX 38"
   ]
  },
  {
   "cell_type": "code",
   "execution_count": 105,
   "id": "77a7fec0-bb6a-4ce8-b8fe-05f72ba90673",
   "metadata": {},
   "outputs": [
    {
     "name": "stdout",
     "output_type": "stream",
     "text": [
      "['cherry', 'Kiwi', 'Orange', 'banana']\n"
     ]
    }
   ],
   "source": [
    "thislist = [\"banana\", \"Orange\", \"Kiwi\", \"cherry\"]\n",
    "thislist.reverse()\n",
    "print(thislist)"
   ]
  },
  {
   "cell_type": "markdown",
   "id": "dd03ff68-542a-4525-8af1-acae8c159763",
   "metadata": {},
   "source": [
    "EX 39"
   ]
  },
  {
   "cell_type": "code",
   "execution_count": 1,
   "id": "8a157f9a-de8c-46ec-85a3-2cde116f099e",
   "metadata": {},
   "outputs": [
    {
     "name": "stdout",
     "output_type": "stream",
     "text": [
      "['apple', 'banana', 'cherry']\n"
     ]
    }
   ],
   "source": [
    "thislist = [\"apple\", \"banana\", \"cherry\"]\n",
    "mylist = thislist.copy()\n",
    "print(mylist)"
   ]
  },
  {
   "cell_type": "markdown",
   "id": "27eac3f0-8805-46d9-a972-5e5240d9ea28",
   "metadata": {},
   "source": [
    "EX 40"
   ]
  },
  {
   "cell_type": "code",
   "execution_count": 3,
   "id": "178b309a-fc3b-4589-83c8-a7331a8a2cae",
   "metadata": {},
   "outputs": [
    {
     "name": "stdout",
     "output_type": "stream",
     "text": [
      "['apple', 'banana', 'cherry']\n"
     ]
    }
   ],
   "source": [
    "thislist = [\"apple\", \"banana\", \"cherry\"]\n",
    "mylist = list(thislist)\n",
    "print(mylist)"
   ]
  },
  {
   "cell_type": "markdown",
   "id": "55735d5c-1e9c-4635-877a-65d60dff2530",
   "metadata": {},
   "source": [
    "EX 41"
   ]
  },
  {
   "cell_type": "code",
   "execution_count": 5,
   "id": "3e6ceb00-0b39-485f-8323-4f1144dc8c06",
   "metadata": {},
   "outputs": [
    {
     "name": "stdout",
     "output_type": "stream",
     "text": [
      "['apple', 'banana', 'cherry']\n"
     ]
    }
   ],
   "source": [
    "thislist = [\"apple\", \"banana\", \"cherry\"]\n",
    "mylist = thislist[:]\n",
    "print(mylist)"
   ]
  },
  {
   "cell_type": "markdown",
   "id": "60d6c142-f58e-4af0-bc6b-f71aa7494da8",
   "metadata": {},
   "source": [
    "EX 42"
   ]
  },
  {
   "cell_type": "code",
   "execution_count": 9,
   "id": "b56f9c9a-3b6e-465d-aed6-838472102eb5",
   "metadata": {},
   "outputs": [
    {
     "name": "stdout",
     "output_type": "stream",
     "text": [
      "['a', 'b', 'c', 1, 2, 3]\n"
     ]
    }
   ],
   "source": [
    "list1 = [\"a\", \"b\", \"c\"]\n",
    "list2 = [1, 2, 3]\n",
    "\n",
    "list3 = list1 + list2\n",
    "print(list3)"
   ]
  },
  {
   "cell_type": "markdown",
   "id": "50d9a788-15bc-461e-ab20-8e2414d4f82f",
   "metadata": {},
   "source": [
    "EX 43"
   ]
  },
  {
   "cell_type": "code",
   "execution_count": 11,
   "id": "5731900b-0e74-4f34-a86f-bc02adf11f0c",
   "metadata": {},
   "outputs": [
    {
     "name": "stdout",
     "output_type": "stream",
     "text": [
      "['a', 'b', 'c', 1, 2, 3]\n"
     ]
    }
   ],
   "source": [
    "list1 = [\"a\", \"b\" , \"c\"]\n",
    "list2 = [1, 2, 3]\n",
    "\n",
    "for x in list2:\n",
    "  list1.append(x)\n",
    "\n",
    "print(list1)"
   ]
  },
  {
   "cell_type": "markdown",
   "id": "efb48cd2-db43-440d-94cc-3fec6a96fe42",
   "metadata": {},
   "source": [
    "EX 44"
   ]
  },
  {
   "cell_type": "code",
   "execution_count": 13,
   "id": "86da80d4-f0a3-418e-ba0f-9c10038f027b",
   "metadata": {},
   "outputs": [
    {
     "name": "stdout",
     "output_type": "stream",
     "text": [
      "['a', 'b', 'c', 1, 2, 3]\n"
     ]
    }
   ],
   "source": [
    "list1 = [\"a\", \"b\" , \"c\"]\n",
    "list2 = [1, 2, 3]\n",
    "\n",
    "list1.extend(list2)\n",
    "print(list1)"
   ]
  },
  {
   "cell_type": "code",
   "execution_count": null,
   "id": "96dd3bdc-1f60-4631-9dbd-89fa92f20124",
   "metadata": {},
   "outputs": [],
   "source": []
  }
 ],
 "metadata": {
  "kernelspec": {
   "display_name": "Python [conda env:base] *",
   "language": "python",
   "name": "conda-base-py"
  },
  "language_info": {
   "codemirror_mode": {
    "name": "ipython",
    "version": 3
   },
   "file_extension": ".py",
   "mimetype": "text/x-python",
   "name": "python",
   "nbconvert_exporter": "python",
   "pygments_lexer": "ipython3",
   "version": "3.12.7"
  }
 },
 "nbformat": 4,
 "nbformat_minor": 5
}
