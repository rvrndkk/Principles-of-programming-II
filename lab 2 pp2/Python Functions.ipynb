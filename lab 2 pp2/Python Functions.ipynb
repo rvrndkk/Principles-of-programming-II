{
 "cells": [
  {
   "cell_type": "markdown",
   "id": "619633ca-b2a8-4523-9aa9-015c110059c7",
   "metadata": {},
   "source": [
    "CH \"Python Functions\""
   ]
  },
  {
   "cell_type": "markdown",
   "id": "feb0b63c-3c38-4705-b885-8519fde1332e",
   "metadata": {},
   "source": [
    "EX 1"
   ]
  },
  {
   "cell_type": "code",
   "execution_count": 1,
   "id": "2f4a00a4-abd7-4d60-945b-c2511ee42439",
   "metadata": {},
   "outputs": [],
   "source": [
    "def my_function():\n",
    "  print(\"Hello from a function\")"
   ]
  },
  {
   "cell_type": "markdown",
   "id": "63db9131-9d8b-40a6-8ab5-7ea942ca3caf",
   "metadata": {},
   "source": [
    "EX 2"
   ]
  },
  {
   "cell_type": "code",
   "execution_count": 3,
   "id": "2f73d195-d5af-4f7d-96db-b7120624c47d",
   "metadata": {},
   "outputs": [
    {
     "name": "stdout",
     "output_type": "stream",
     "text": [
      "Hello from a function\n"
     ]
    }
   ],
   "source": [
    "def my_function():\n",
    "  print(\"Hello from a function\")\n",
    "\n",
    "my_function()"
   ]
  },
  {
   "cell_type": "markdown",
   "id": "3191fd1a-be73-41c9-bd56-5c989588ee61",
   "metadata": {},
   "source": [
    "EX 3"
   ]
  },
  {
   "cell_type": "code",
   "execution_count": 5,
   "id": "e2fa2c71-80a3-4ee3-ae66-5bb69f01308d",
   "metadata": {},
   "outputs": [
    {
     "name": "stdout",
     "output_type": "stream",
     "text": [
      "Emil Refsnes\n",
      "Tobias Refsnes\n",
      "Linus Refsnes\n"
     ]
    }
   ],
   "source": [
    "def my_function(fname):\n",
    "  print(fname + \" Refsnes\")\n",
    "\n",
    "my_function(\"Emil\")\n",
    "my_function(\"Tobias\")\n",
    "my_function(\"Linus\")"
   ]
  },
  {
   "cell_type": "markdown",
   "id": "82bcd648-7927-4e23-a6fa-2b58f65793ac",
   "metadata": {},
   "source": [
    "EX 4"
   ]
  },
  {
   "cell_type": "code",
   "execution_count": 7,
   "id": "200e6700-a1b2-40ce-81cf-928e31081f59",
   "metadata": {},
   "outputs": [
    {
     "name": "stdout",
     "output_type": "stream",
     "text": [
      "Emil Refsnes\n"
     ]
    }
   ],
   "source": [
    "def my_function(fname, lname):\n",
    "  print(fname + \" \" + lname)\n",
    "\n",
    "my_function(\"Emil\", \"Refsnes\")"
   ]
  },
  {
   "cell_type": "markdown",
   "id": "a8213b2e-b033-411e-bede-0c47dc3935a9",
   "metadata": {},
   "source": [
    "EX 5"
   ]
  },
  {
   "cell_type": "code",
   "execution_count": 9,
   "id": "9d37d542-7b57-4437-8694-5ddc6364f9ca",
   "metadata": {},
   "outputs": [
    {
     "ename": "TypeError",
     "evalue": "my_function() missing 1 required positional argument: 'lname'",
     "output_type": "error",
     "traceback": [
      "\u001b[1;31m---------------------------------------------------------------------------\u001b[0m",
      "\u001b[1;31mTypeError\u001b[0m                                 Traceback (most recent call last)",
      "Cell \u001b[1;32mIn[9], line 4\u001b[0m\n\u001b[0;32m      1\u001b[0m \u001b[38;5;28;01mdef\u001b[39;00m \u001b[38;5;21mmy_function\u001b[39m(fname, lname):\n\u001b[0;32m      2\u001b[0m   \u001b[38;5;28mprint\u001b[39m(fname \u001b[38;5;241m+\u001b[39m \u001b[38;5;124m\"\u001b[39m\u001b[38;5;124m \u001b[39m\u001b[38;5;124m\"\u001b[39m \u001b[38;5;241m+\u001b[39m lname)\n\u001b[1;32m----> 4\u001b[0m my_function(\u001b[38;5;124m\"\u001b[39m\u001b[38;5;124mEmil\u001b[39m\u001b[38;5;124m\"\u001b[39m)\n",
      "\u001b[1;31mTypeError\u001b[0m: my_function() missing 1 required positional argument: 'lname'"
     ]
    }
   ],
   "source": [
    "def my_function(fname, lname):\n",
    "  print(fname + \" \" + lname)\n",
    "\n",
    "my_function(\"Emil\")"
   ]
  },
  {
   "cell_type": "markdown",
   "id": "f783591b-04c3-4219-bbbf-558a03ed8185",
   "metadata": {},
   "source": [
    "EX 6"
   ]
  },
  {
   "cell_type": "code",
   "execution_count": 11,
   "id": "09605c80-4f2e-4289-b524-aefd2eeb00b8",
   "metadata": {},
   "outputs": [
    {
     "name": "stdout",
     "output_type": "stream",
     "text": [
      "The youngest child is Linus\n"
     ]
    }
   ],
   "source": [
    "def my_function(*kids):\n",
    "  print(\"The youngest child is \" + kids[2])\n",
    "\n",
    "my_function(\"Emil\", \"Tobias\", \"Linus\")"
   ]
  },
  {
   "cell_type": "markdown",
   "id": "5d1f0fac-7d4a-4e53-9764-2959ce97f6ae",
   "metadata": {},
   "source": [
    "EX 7"
   ]
  },
  {
   "cell_type": "code",
   "execution_count": 13,
   "id": "05054160-c986-47af-8d6c-7f91cdc285a4",
   "metadata": {},
   "outputs": [
    {
     "name": "stdout",
     "output_type": "stream",
     "text": [
      "The youngest child is Linus\n"
     ]
    }
   ],
   "source": [
    "def my_function(child3, child2, child1):\n",
    "  print(\"The youngest child is \" + child3)\n",
    "\n",
    "my_function(child1 = \"Emil\", child2 = \"Tobias\", child3 = \"Linus\")"
   ]
  },
  {
   "cell_type": "markdown",
   "id": "4b05b1aa-1a5f-456a-a519-880834c6ae29",
   "metadata": {},
   "source": [
    "EX 8"
   ]
  },
  {
   "cell_type": "code",
   "execution_count": 15,
   "id": "dd05c186-6cce-4fc4-b8e1-ed993f088127",
   "metadata": {},
   "outputs": [
    {
     "name": "stdout",
     "output_type": "stream",
     "text": [
      "His last name is Refsnes\n"
     ]
    }
   ],
   "source": [
    "def my_function(**kid):\n",
    "  print(\"His last name is \" + kid[\"lname\"])\n",
    "\n",
    "my_function(fname = \"Tobias\", lname = \"Refsnes\")"
   ]
  },
  {
   "cell_type": "markdown",
   "id": "d52337f8-e75a-4b0c-bcfe-a01e3a66c0c9",
   "metadata": {},
   "source": [
    "EX 9"
   ]
  },
  {
   "cell_type": "code",
   "execution_count": 17,
   "id": "b5ae1de5-f6f2-479a-9a05-887afe6438ee",
   "metadata": {},
   "outputs": [
    {
     "name": "stdout",
     "output_type": "stream",
     "text": [
      "I am from Sweden\n",
      "I am from India\n",
      "I am from Norway\n",
      "I am from Brazil\n"
     ]
    }
   ],
   "source": [
    "def my_function(country = \"Norway\"):\n",
    "  print(\"I am from \" + country)\n",
    "\n",
    "my_function(\"Sweden\")\n",
    "my_function(\"India\")\n",
    "my_function()\n",
    "my_function(\"Brazil\")"
   ]
  },
  {
   "cell_type": "markdown",
   "id": "b058204b-9a33-4ce9-82db-460aaf2dd9f1",
   "metadata": {},
   "source": [
    "EX 10"
   ]
  },
  {
   "cell_type": "code",
   "execution_count": 19,
   "id": "3693d0c9-8a8a-45b7-bd3b-1e13d92a620d",
   "metadata": {},
   "outputs": [
    {
     "name": "stdout",
     "output_type": "stream",
     "text": [
      "apple\n",
      "banana\n",
      "cherry\n"
     ]
    }
   ],
   "source": [
    "def my_function(food):\n",
    "  for x in food:\n",
    "    print(x)\n",
    "\n",
    "fruits = [\"apple\", \"banana\", \"cherry\"]\n",
    "\n",
    "my_function(fruits)"
   ]
  },
  {
   "cell_type": "markdown",
   "id": "c5b9c1a1-d6d8-46c0-8679-b4c722d4d364",
   "metadata": {},
   "source": [
    "EX 11"
   ]
  },
  {
   "cell_type": "code",
   "execution_count": 21,
   "id": "5ce97d90-f696-4c25-8c46-7a927691c8f0",
   "metadata": {},
   "outputs": [
    {
     "name": "stdout",
     "output_type": "stream",
     "text": [
      "15\n",
      "25\n",
      "45\n"
     ]
    }
   ],
   "source": [
    "def my_function(x):\n",
    "  return 5 * x\n",
    "\n",
    "print(my_function(3))\n",
    "print(my_function(5))\n",
    "print(my_function(9))"
   ]
  },
  {
   "cell_type": "markdown",
   "id": "8c24e429-d66e-4f65-b65b-5311db4e5e74",
   "metadata": {},
   "source": [
    "EX 12"
   ]
  },
  {
   "cell_type": "code",
   "execution_count": 23,
   "id": "a8ea6684-dd40-41cd-bebf-a3683082c6fc",
   "metadata": {},
   "outputs": [],
   "source": [
    "def myfunction():\n",
    "  pass"
   ]
  },
  {
   "cell_type": "markdown",
   "id": "42779868-fab2-4651-bf7e-6e6c61d9193a",
   "metadata": {},
   "source": [
    "EX 13"
   ]
  },
  {
   "cell_type": "code",
   "execution_count": 25,
   "id": "2caea608-7625-4039-880b-aae343f2b563",
   "metadata": {},
   "outputs": [
    {
     "name": "stdout",
     "output_type": "stream",
     "text": [
      "3\n"
     ]
    }
   ],
   "source": [
    "def my_function(x, /):\n",
    "  print(x)\n",
    "\n",
    "my_function(3)"
   ]
  },
  {
   "cell_type": "markdown",
   "id": "230256fb-1a5f-429b-92a1-320705410f97",
   "metadata": {},
   "source": [
    "Ex 14"
   ]
  },
  {
   "cell_type": "code",
   "execution_count": 27,
   "id": "dbc0df1b-d0d4-429e-8af3-d7e36bed0d37",
   "metadata": {},
   "outputs": [
    {
     "name": "stdout",
     "output_type": "stream",
     "text": [
      "3\n"
     ]
    }
   ],
   "source": [
    "def my_function(x):\n",
    "  print(x)\n",
    "\n",
    "my_function(x = 3)"
   ]
  },
  {
   "cell_type": "markdown",
   "id": "1de3c450-c7c7-443f-bbe1-591aff86705d",
   "metadata": {},
   "source": [
    "EX 15"
   ]
  },
  {
   "cell_type": "code",
   "execution_count": 29,
   "id": "11a77113-93c4-4a41-92ab-6adf7c68f0b7",
   "metadata": {},
   "outputs": [
    {
     "ename": "TypeError",
     "evalue": "my_function() got some positional-only arguments passed as keyword arguments: 'x'",
     "output_type": "error",
     "traceback": [
      "\u001b[1;31m---------------------------------------------------------------------------\u001b[0m",
      "\u001b[1;31mTypeError\u001b[0m                                 Traceback (most recent call last)",
      "Cell \u001b[1;32mIn[29], line 4\u001b[0m\n\u001b[0;32m      1\u001b[0m \u001b[38;5;28;01mdef\u001b[39;00m \u001b[38;5;21mmy_function\u001b[39m(x, \u001b[38;5;241m/\u001b[39m):\n\u001b[0;32m      2\u001b[0m   \u001b[38;5;28mprint\u001b[39m(x)\n\u001b[1;32m----> 4\u001b[0m my_function(x \u001b[38;5;241m=\u001b[39m \u001b[38;5;241m3\u001b[39m)\n",
      "\u001b[1;31mTypeError\u001b[0m: my_function() got some positional-only arguments passed as keyword arguments: 'x'"
     ]
    }
   ],
   "source": [
    "def my_function(x, /):\n",
    "  print(x)\n",
    "\n",
    "my_function(x = 3)"
   ]
  },
  {
   "cell_type": "markdown",
   "id": "d88325e5-44ce-45e6-8327-dae8b49f0771",
   "metadata": {},
   "source": [
    "EX 16"
   ]
  },
  {
   "cell_type": "code",
   "execution_count": 31,
   "id": "ee9ee49e-17fc-44f7-a32c-24a57eeda2d6",
   "metadata": {},
   "outputs": [
    {
     "name": "stdout",
     "output_type": "stream",
     "text": [
      "3\n"
     ]
    }
   ],
   "source": [
    "def my_function(*, x):\n",
    "  print(x)\n",
    "\n",
    "my_function(x = 3)"
   ]
  },
  {
   "cell_type": "markdown",
   "id": "81840338-ce39-47b4-a541-585956403a4c",
   "metadata": {},
   "source": [
    "EX 17"
   ]
  },
  {
   "cell_type": "code",
   "execution_count": 33,
   "id": "dcca65cf-e49e-4563-bca1-ba3544b875ef",
   "metadata": {},
   "outputs": [
    {
     "name": "stdout",
     "output_type": "stream",
     "text": [
      "3\n"
     ]
    }
   ],
   "source": [
    "def my_function(x):\n",
    "  print(x)\n",
    "\n",
    "my_function(3)"
   ]
  },
  {
   "cell_type": "markdown",
   "id": "45cf4fd7-54f2-4a07-b309-d7dbe8892b8d",
   "metadata": {},
   "source": [
    "EX 18"
   ]
  },
  {
   "cell_type": "code",
   "execution_count": 35,
   "id": "9bcfd467-be52-410a-a3e1-37ca04e40f41",
   "metadata": {},
   "outputs": [
    {
     "ename": "TypeError",
     "evalue": "my_function() takes 0 positional arguments but 1 was given",
     "output_type": "error",
     "traceback": [
      "\u001b[1;31m---------------------------------------------------------------------------\u001b[0m",
      "\u001b[1;31mTypeError\u001b[0m                                 Traceback (most recent call last)",
      "Cell \u001b[1;32mIn[35], line 4\u001b[0m\n\u001b[0;32m      1\u001b[0m \u001b[38;5;28;01mdef\u001b[39;00m \u001b[38;5;21mmy_function\u001b[39m(\u001b[38;5;241m*\u001b[39m, x):\n\u001b[0;32m      2\u001b[0m   \u001b[38;5;28mprint\u001b[39m(x)\n\u001b[1;32m----> 4\u001b[0m my_function(\u001b[38;5;241m3\u001b[39m)\n",
      "\u001b[1;31mTypeError\u001b[0m: my_function() takes 0 positional arguments but 1 was given"
     ]
    }
   ],
   "source": [
    "def my_function(*, x):\n",
    "  print(x)\n",
    "\n",
    "my_function(3)"
   ]
  },
  {
   "cell_type": "markdown",
   "id": "6cf5ceca-1ddd-4041-a0c9-88566a8eb773",
   "metadata": {},
   "source": [
    "EX 19"
   ]
  },
  {
   "cell_type": "code",
   "execution_count": 39,
   "id": "baf2fd28-2f5b-4f50-978b-6b1ecf317179",
   "metadata": {},
   "outputs": [
    {
     "name": "stdout",
     "output_type": "stream",
     "text": [
      "26\n"
     ]
    }
   ],
   "source": [
    "def my_function(a, b, /, *, c, d):\n",
    "  print(a + b + c + d)\n",
    "\n",
    "my_function(5, 6, c = 7, d = 8)"
   ]
  },
  {
   "cell_type": "markdown",
   "id": "e4677df6-0c65-4f08-97e5-c25550dbe0ce",
   "metadata": {},
   "source": [
    "EX 20"
   ]
  },
  {
   "cell_type": "code",
   "execution_count": 41,
   "id": "032c2ac2-e185-4f7a-94f9-6ee0ce40788e",
   "metadata": {},
   "outputs": [
    {
     "name": "stdout",
     "output_type": "stream",
     "text": [
      "Recursion Example Results:\n",
      "1\n",
      "3\n",
      "6\n",
      "10\n",
      "15\n",
      "21\n"
     ]
    },
    {
     "data": {
      "text/plain": [
       "21"
      ]
     },
     "execution_count": 41,
     "metadata": {},
     "output_type": "execute_result"
    }
   ],
   "source": [
    "def tri_recursion(k):\n",
    "  if(k > 0):\n",
    "    result = k + tri_recursion(k - 1)\n",
    "    print(result)\n",
    "  else:\n",
    "    result = 0\n",
    "  return result\n",
    "\n",
    "print(\"Recursion Example Results:\")\n",
    "tri_recursion(6)"
   ]
  },
  {
   "cell_type": "code",
   "execution_count": null,
   "id": "69b4c0e4-40aa-4589-b6b9-d808f50e1c21",
   "metadata": {},
   "outputs": [],
   "source": []
  }
 ],
 "metadata": {
  "kernelspec": {
   "display_name": "Python [conda env:base] *",
   "language": "python",
   "name": "conda-base-py"
  },
  "language_info": {
   "codemirror_mode": {
    "name": "ipython",
    "version": 3
   },
   "file_extension": ".py",
   "mimetype": "text/x-python",
   "name": "python",
   "nbconvert_exporter": "python",
   "pygments_lexer": "ipython3",
   "version": "3.12.7"
  }
 },
 "nbformat": 4,
 "nbformat_minor": 5
}
